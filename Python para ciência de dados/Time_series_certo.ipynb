{
  "nbformat": 4,
  "nbformat_minor": 0,
  "metadata": {
    "colab": {
      "provenance": [],
      "authorship_tag": "ABX9TyP3iaQALoNZAQFDQgoLTAnP",
      "include_colab_link": true
    },
    "kernelspec": {
      "name": "python3",
      "display_name": "Python 3"
    },
    "language_info": {
      "name": "python"
    }
  },
  "cells": [
    {
      "cell_type": "markdown",
      "metadata": {
        "id": "view-in-github",
        "colab_type": "text"
      },
      "source": [
        "<a href=\"https://colab.research.google.com/github/Giuseppe31-s/Geracao-Tech-Unimed-BH-Ciencia-de-Dados/blob/main/Python%20para%20ci%C3%AAncia%20de%20dados/Time_series_certo.ipynb\" target=\"_parent\"><img src=\"https://colab.research.google.com/assets/colab-badge.svg\" alt=\"Open In Colab\"/></a>"
      ]
    },
    {
      "cell_type": "code",
      "execution_count": null,
      "metadata": {
        "id": "2fwRsZmXkjH-"
      },
      "outputs": [],
      "source": [
        "import pandas as pd\n",
        "from scipy.stats import spearmanr\n",
        "import numpy as np\n",
        "import matplotlib.pyplot as plt\n",
        "from statsmodels.graphics.tsaplots import plot_acf, plot_pacf\n",
        "from statsmodels.tsa.stattools import q_stat\n",
        "from statsmodels.tsa.stattools import adfuller\n",
        "import statsmodels.api as sm\n",
        "\n"
      ]
    },
    {
      "cell_type": "markdown",
      "source": [
        "#Introdução\n",
        "\n",
        "A série selecionada foi a temperatura de João Pessoa, pois a estação meteorológica de Recife está com defeito. Quando a estação voltar a funcionar os dados vão ser trocados. O Escopo é pôr em prática os estudos sobre séries temporais e tentar chegar a uma boa previsão.\n"
      ],
      "metadata": {
        "id": "1XT5nE_9LS75"
      }
    },
    {
      "cell_type": "markdown",
      "source": [
        "Exportando dados"
      ],
      "metadata": {
        "id": "wtkHtocBmvUg"
      }
    },
    {
      "cell_type": "code",
      "source": [
        "joaopessoa_pb = pd.read_csv('/content/JOAO PESSOA (A320)_2022-06-01_2022-06-14.csv',dtype = {'Hora (UTC)':str})"
      ],
      "metadata": {
        "id": "Rfm2m02NGRNr"
      },
      "execution_count": null,
      "outputs": []
    },
    {
      "cell_type": "code",
      "source": [
        "joaopessoa_pb.head()"
      ],
      "metadata": {
        "colab": {
          "base_uri": "https://localhost:8080/",
          "height": 322
        },
        "id": "n27pobywm4JU",
        "outputId": "3915c01d-56d7-44e5-b7ed-428f5ed96d82"
      },
      "execution_count": null,
      "outputs": [
        {
          "output_type": "execute_result",
          "data": {
            "text/plain": [
              "         Data Hora (UTC) Temp. Ins. (C) Temp. Max. (C) Temp. Min. (C)  \\\n",
              "0  01/06/2022       0000           24,8           24,9           24,6   \n",
              "1  01/06/2022       0100           24,5           24,9           24,3   \n",
              "2  01/06/2022       0200           24,2           24,5           24,2   \n",
              "3  01/06/2022       0300           24,4           24,6           24,2   \n",
              "4  01/06/2022       0400           23,9           24,4           23,9   \n",
              "\n",
              "  Umi. Ins. (%) Umi. Max. (%) Umi. Min. (%) Pto Orvalho Ins. (C)  \\\n",
              "0          97,0          97,0          97,0                 24,3   \n",
              "1          97,0          97,0          97,0                 23,9   \n",
              "2          97,0          97,0          96,0                 23,7   \n",
              "3          97,0          97,0          97,0                 23,8   \n",
              "4          97,0          97,0          97,0                 23,4   \n",
              "\n",
              "  Pto Orvalho Max. (C) Pto Orvalho Min. (C) Pressao Ins. (hPa)  \\\n",
              "0                 24,4                 24,1             1007,0   \n",
              "1                 24,4                 23,8             1007,0   \n",
              "2                 23,9                 23,7             1006,6   \n",
              "3                 24,1                 23,6             1006,4   \n",
              "4                 23,9                 23,4             1005,8   \n",
              "\n",
              "  Pressao Max. (hPa) Pressao Min. (hPa) Vel. Vento (m/s) Dir. Vento (m/s)  \\\n",
              "0             1007,1             1006,9              0,4            184,0   \n",
              "1             1007,1             1006,8              1,2             28,0   \n",
              "2             1007,0             1006,6              0,2            186,0   \n",
              "3             1006,7             1006,4              0,9            203,0   \n",
              "4             1006,4             1005,8              0,5            196,0   \n",
              "\n",
              "  Raj. Vento (m/s) Radiacao (KJ/m²) Chuva (mm)  \n",
              "0              3,6              NaN        0,0  \n",
              "1              3,9              NaN        0,0  \n",
              "2              3,4              NaN        0,2  \n",
              "3              2,3              NaN        0,0  \n",
              "4              4,6              NaN        0,6  "
            ],
            "text/html": [
              "\n",
              "  <div id=\"df-3fcfadf3-8659-4a20-a4aa-67d70e2f4c07\">\n",
              "    <div class=\"colab-df-container\">\n",
              "      <div>\n",
              "<style scoped>\n",
              "    .dataframe tbody tr th:only-of-type {\n",
              "        vertical-align: middle;\n",
              "    }\n",
              "\n",
              "    .dataframe tbody tr th {\n",
              "        vertical-align: top;\n",
              "    }\n",
              "\n",
              "    .dataframe thead th {\n",
              "        text-align: right;\n",
              "    }\n",
              "</style>\n",
              "<table border=\"1\" class=\"dataframe\">\n",
              "  <thead>\n",
              "    <tr style=\"text-align: right;\">\n",
              "      <th></th>\n",
              "      <th>Data</th>\n",
              "      <th>Hora (UTC)</th>\n",
              "      <th>Temp. Ins. (C)</th>\n",
              "      <th>Temp. Max. (C)</th>\n",
              "      <th>Temp. Min. (C)</th>\n",
              "      <th>Umi. Ins. (%)</th>\n",
              "      <th>Umi. Max. (%)</th>\n",
              "      <th>Umi. Min. (%)</th>\n",
              "      <th>Pto Orvalho Ins. (C)</th>\n",
              "      <th>Pto Orvalho Max. (C)</th>\n",
              "      <th>Pto Orvalho Min. (C)</th>\n",
              "      <th>Pressao Ins. (hPa)</th>\n",
              "      <th>Pressao Max. (hPa)</th>\n",
              "      <th>Pressao Min. (hPa)</th>\n",
              "      <th>Vel. Vento (m/s)</th>\n",
              "      <th>Dir. Vento (m/s)</th>\n",
              "      <th>Raj. Vento (m/s)</th>\n",
              "      <th>Radiacao (KJ/m²)</th>\n",
              "      <th>Chuva (mm)</th>\n",
              "    </tr>\n",
              "  </thead>\n",
              "  <tbody>\n",
              "    <tr>\n",
              "      <th>0</th>\n",
              "      <td>01/06/2022</td>\n",
              "      <td>0000</td>\n",
              "      <td>24,8</td>\n",
              "      <td>24,9</td>\n",
              "      <td>24,6</td>\n",
              "      <td>97,0</td>\n",
              "      <td>97,0</td>\n",
              "      <td>97,0</td>\n",
              "      <td>24,3</td>\n",
              "      <td>24,4</td>\n",
              "      <td>24,1</td>\n",
              "      <td>1007,0</td>\n",
              "      <td>1007,1</td>\n",
              "      <td>1006,9</td>\n",
              "      <td>0,4</td>\n",
              "      <td>184,0</td>\n",
              "      <td>3,6</td>\n",
              "      <td>NaN</td>\n",
              "      <td>0,0</td>\n",
              "    </tr>\n",
              "    <tr>\n",
              "      <th>1</th>\n",
              "      <td>01/06/2022</td>\n",
              "      <td>0100</td>\n",
              "      <td>24,5</td>\n",
              "      <td>24,9</td>\n",
              "      <td>24,3</td>\n",
              "      <td>97,0</td>\n",
              "      <td>97,0</td>\n",
              "      <td>97,0</td>\n",
              "      <td>23,9</td>\n",
              "      <td>24,4</td>\n",
              "      <td>23,8</td>\n",
              "      <td>1007,0</td>\n",
              "      <td>1007,1</td>\n",
              "      <td>1006,8</td>\n",
              "      <td>1,2</td>\n",
              "      <td>28,0</td>\n",
              "      <td>3,9</td>\n",
              "      <td>NaN</td>\n",
              "      <td>0,0</td>\n",
              "    </tr>\n",
              "    <tr>\n",
              "      <th>2</th>\n",
              "      <td>01/06/2022</td>\n",
              "      <td>0200</td>\n",
              "      <td>24,2</td>\n",
              "      <td>24,5</td>\n",
              "      <td>24,2</td>\n",
              "      <td>97,0</td>\n",
              "      <td>97,0</td>\n",
              "      <td>96,0</td>\n",
              "      <td>23,7</td>\n",
              "      <td>23,9</td>\n",
              "      <td>23,7</td>\n",
              "      <td>1006,6</td>\n",
              "      <td>1007,0</td>\n",
              "      <td>1006,6</td>\n",
              "      <td>0,2</td>\n",
              "      <td>186,0</td>\n",
              "      <td>3,4</td>\n",
              "      <td>NaN</td>\n",
              "      <td>0,2</td>\n",
              "    </tr>\n",
              "    <tr>\n",
              "      <th>3</th>\n",
              "      <td>01/06/2022</td>\n",
              "      <td>0300</td>\n",
              "      <td>24,4</td>\n",
              "      <td>24,6</td>\n",
              "      <td>24,2</td>\n",
              "      <td>97,0</td>\n",
              "      <td>97,0</td>\n",
              "      <td>97,0</td>\n",
              "      <td>23,8</td>\n",
              "      <td>24,1</td>\n",
              "      <td>23,6</td>\n",
              "      <td>1006,4</td>\n",
              "      <td>1006,7</td>\n",
              "      <td>1006,4</td>\n",
              "      <td>0,9</td>\n",
              "      <td>203,0</td>\n",
              "      <td>2,3</td>\n",
              "      <td>NaN</td>\n",
              "      <td>0,0</td>\n",
              "    </tr>\n",
              "    <tr>\n",
              "      <th>4</th>\n",
              "      <td>01/06/2022</td>\n",
              "      <td>0400</td>\n",
              "      <td>23,9</td>\n",
              "      <td>24,4</td>\n",
              "      <td>23,9</td>\n",
              "      <td>97,0</td>\n",
              "      <td>97,0</td>\n",
              "      <td>97,0</td>\n",
              "      <td>23,4</td>\n",
              "      <td>23,9</td>\n",
              "      <td>23,4</td>\n",
              "      <td>1005,8</td>\n",
              "      <td>1006,4</td>\n",
              "      <td>1005,8</td>\n",
              "      <td>0,5</td>\n",
              "      <td>196,0</td>\n",
              "      <td>4,6</td>\n",
              "      <td>NaN</td>\n",
              "      <td>0,6</td>\n",
              "    </tr>\n",
              "  </tbody>\n",
              "</table>\n",
              "</div>\n",
              "      <button class=\"colab-df-convert\" onclick=\"convertToInteractive('df-3fcfadf3-8659-4a20-a4aa-67d70e2f4c07')\"\n",
              "              title=\"Convert this dataframe to an interactive table.\"\n",
              "              style=\"display:none;\">\n",
              "        \n",
              "  <svg xmlns=\"http://www.w3.org/2000/svg\" height=\"24px\"viewBox=\"0 0 24 24\"\n",
              "       width=\"24px\">\n",
              "    <path d=\"M0 0h24v24H0V0z\" fill=\"none\"/>\n",
              "    <path d=\"M18.56 5.44l.94 2.06.94-2.06 2.06-.94-2.06-.94-.94-2.06-.94 2.06-2.06.94zm-11 1L8.5 8.5l.94-2.06 2.06-.94-2.06-.94L8.5 2.5l-.94 2.06-2.06.94zm10 10l.94 2.06.94-2.06 2.06-.94-2.06-.94-.94-2.06-.94 2.06-2.06.94z\"/><path d=\"M17.41 7.96l-1.37-1.37c-.4-.4-.92-.59-1.43-.59-.52 0-1.04.2-1.43.59L10.3 9.45l-7.72 7.72c-.78.78-.78 2.05 0 2.83L4 21.41c.39.39.9.59 1.41.59.51 0 1.02-.2 1.41-.59l7.78-7.78 2.81-2.81c.8-.78.8-2.07 0-2.86zM5.41 20L4 18.59l7.72-7.72 1.47 1.35L5.41 20z\"/>\n",
              "  </svg>\n",
              "      </button>\n",
              "      \n",
              "  <style>\n",
              "    .colab-df-container {\n",
              "      display:flex;\n",
              "      flex-wrap:wrap;\n",
              "      gap: 12px;\n",
              "    }\n",
              "\n",
              "    .colab-df-convert {\n",
              "      background-color: #E8F0FE;\n",
              "      border: none;\n",
              "      border-radius: 50%;\n",
              "      cursor: pointer;\n",
              "      display: none;\n",
              "      fill: #1967D2;\n",
              "      height: 32px;\n",
              "      padding: 0 0 0 0;\n",
              "      width: 32px;\n",
              "    }\n",
              "\n",
              "    .colab-df-convert:hover {\n",
              "      background-color: #E2EBFA;\n",
              "      box-shadow: 0px 1px 2px rgba(60, 64, 67, 0.3), 0px 1px 3px 1px rgba(60, 64, 67, 0.15);\n",
              "      fill: #174EA6;\n",
              "    }\n",
              "\n",
              "    [theme=dark] .colab-df-convert {\n",
              "      background-color: #3B4455;\n",
              "      fill: #D2E3FC;\n",
              "    }\n",
              "\n",
              "    [theme=dark] .colab-df-convert:hover {\n",
              "      background-color: #434B5C;\n",
              "      box-shadow: 0px 1px 3px 1px rgba(0, 0, 0, 0.15);\n",
              "      filter: drop-shadow(0px 1px 2px rgba(0, 0, 0, 0.3));\n",
              "      fill: #FFFFFF;\n",
              "    }\n",
              "  </style>\n",
              "\n",
              "      <script>\n",
              "        const buttonEl =\n",
              "          document.querySelector('#df-3fcfadf3-8659-4a20-a4aa-67d70e2f4c07 button.colab-df-convert');\n",
              "        buttonEl.style.display =\n",
              "          google.colab.kernel.accessAllowed ? 'block' : 'none';\n",
              "\n",
              "        async function convertToInteractive(key) {\n",
              "          const element = document.querySelector('#df-3fcfadf3-8659-4a20-a4aa-67d70e2f4c07');\n",
              "          const dataTable =\n",
              "            await google.colab.kernel.invokeFunction('convertToInteractive',\n",
              "                                                     [key], {});\n",
              "          if (!dataTable) return;\n",
              "\n",
              "          const docLinkHtml = 'Like what you see? Visit the ' +\n",
              "            '<a target=\"_blank\" href=https://colab.research.google.com/notebooks/data_table.ipynb>data table notebook</a>'\n",
              "            + ' to learn more about interactive tables.';\n",
              "          element.innerHTML = '';\n",
              "          dataTable['output_type'] = 'display_data';\n",
              "          await google.colab.output.renderOutput(dataTable, element);\n",
              "          const docLink = document.createElement('div');\n",
              "          docLink.innerHTML = docLinkHtml;\n",
              "          element.appendChild(docLink);\n",
              "        }\n",
              "      </script>\n",
              "    </div>\n",
              "  </div>\n",
              "  "
            ]
          },
          "metadata": {},
          "execution_count": 30
        }
      ]
    },
    {
      "cell_type": "markdown",
      "source": [
        "Vamos transformar a data no nosso index"
      ],
      "metadata": {
        "id": "pbyqTB9CnUIw"
      }
    },
    {
      "cell_type": "code",
      "source": [
        "joaopessoa_pb['Data'] = joaopessoa_pb.Data +'-' +  joaopessoa_pb['Hora (UTC)']"
      ],
      "metadata": {
        "id": "YtJi5sMfb4Ie"
      },
      "execution_count": null,
      "outputs": []
    },
    {
      "cell_type": "code",
      "source": [
        "joaopessoa_pb.Data = pd.to_datetime(joaopessoa_pb.Data, format='%d/%m/%Y-%H%M')"
      ],
      "metadata": {
        "id": "z2nww1M2Wsc8"
      },
      "execution_count": null,
      "outputs": []
    },
    {
      "cell_type": "code",
      "source": [
        "joaopessoa_pb = joaopessoa_pb.set_index(joaopessoa_pb.Data,drop = True)"
      ],
      "metadata": {
        "id": "HtlmIM6kcU9n"
      },
      "execution_count": null,
      "outputs": []
    },
    {
      "cell_type": "code",
      "source": [
        "joaopessoa_pb.info()"
      ],
      "metadata": {
        "colab": {
          "base_uri": "https://localhost:8080/"
        },
        "id": "f4uOK0xEnobt",
        "outputId": "8661a477-2e90-4f52-aca0-507ae0afb76a"
      },
      "execution_count": null,
      "outputs": [
        {
          "output_type": "stream",
          "name": "stdout",
          "text": [
            "<class 'pandas.core.frame.DataFrame'>\n",
            "DatetimeIndex: 336 entries, 2022-06-01 00:00:00 to 2022-06-14 23:00:00\n",
            "Data columns (total 19 columns):\n",
            " #   Column                Non-Null Count  Dtype         \n",
            "---  ------                --------------  -----         \n",
            " 0   Data                  336 non-null    datetime64[ns]\n",
            " 1   Hora (UTC)            336 non-null    object        \n",
            " 2   Temp. Ins. (C)        334 non-null    object        \n",
            " 3   Temp. Max. (C)        334 non-null    object        \n",
            " 4   Temp. Min. (C)        334 non-null    object        \n",
            " 5   Umi. Ins. (%)         334 non-null    object        \n",
            " 6   Umi. Max. (%)         334 non-null    object        \n",
            " 7   Umi. Min. (%)         334 non-null    object        \n",
            " 8   Pto Orvalho Ins. (C)  334 non-null    object        \n",
            " 9   Pto Orvalho Max. (C)  334 non-null    object        \n",
            " 10  Pto Orvalho Min. (C)  334 non-null    object        \n",
            " 11  Pressao Ins. (hPa)    334 non-null    object        \n",
            " 12  Pressao Max. (hPa)    334 non-null    object        \n",
            " 13  Pressao Min. (hPa)    334 non-null    object        \n",
            " 14  Vel. Vento (m/s)      334 non-null    object        \n",
            " 15  Dir. Vento (m/s)      334 non-null    object        \n",
            " 16  Raj. Vento (m/s)      334 non-null    object        \n",
            " 17  Radiacao (KJ/m²)      176 non-null    object        \n",
            " 18  Chuva (mm)            334 non-null    object        \n",
            "dtypes: datetime64[ns](1), object(18)\n",
            "memory usage: 52.5+ KB\n"
          ]
        }
      ]
    },
    {
      "cell_type": "code",
      "source": [
        "joaopessoa_pb['Temp. Max. (C)'] = joaopessoa_pb['Temp. Max. (C)'].str.replace(',','.').astype(float)"
      ],
      "metadata": {
        "id": "8GyOD3biePph"
      },
      "execution_count": null,
      "outputs": []
    },
    {
      "cell_type": "code",
      "source": [
        "joaopessoa_pb = joaopessoa_pb[:-2]"
      ],
      "metadata": {
        "id": "6qSB_rMIfcd2"
      },
      "execution_count": null,
      "outputs": []
    },
    {
      "cell_type": "code",
      "source": [
        "joaopessoa_pb['Temp. Max. (C)']"
      ],
      "metadata": {
        "colab": {
          "base_uri": "https://localhost:8080/"
        },
        "id": "eoDDyuxijJKA",
        "outputId": "80c1ff38-d3f8-40a6-b53c-8c8868ae6169"
      },
      "execution_count": null,
      "outputs": [
        {
          "output_type": "execute_result",
          "data": {
            "text/plain": [
              "Data\n",
              "2022-06-01 00:00:00    24.9\n",
              "2022-06-01 01:00:00    24.9\n",
              "2022-06-01 02:00:00    24.5\n",
              "2022-06-01 03:00:00    24.6\n",
              "2022-06-01 04:00:00    24.4\n",
              "                       ... \n",
              "2022-06-14 17:00:00    30.4\n",
              "2022-06-14 18:00:00    30.1\n",
              "2022-06-14 19:00:00    29.4\n",
              "2022-06-14 20:00:00    28.3\n",
              "2022-06-14 21:00:00    26.4\n",
              "Name: Temp. Max. (C), Length: 334, dtype: float64"
            ]
          },
          "metadata": {},
          "execution_count": 37
        }
      ]
    },
    {
      "cell_type": "markdown",
      "source": [
        "##.\n"
      ],
      "metadata": {
        "id": "nd6nDB2ASYEA"
      }
    },
    {
      "cell_type": "markdown",
      "source": [
        "###ESTACIONARIEDADE\n",
        "Na análise de regressão envolvendo dados de séries temporais, uma premissa fundamental é que a série tem-poral considerada seja estacionária. De modo geral, uma série temporal é estacionária se sua média e va-riância forem constantes ao longo do tempo e o valor de covariância entre dois períodos depender apenas da distância ou intervalo entre os dois períodos e não do tempo real no qual a covariância é calculada.1 Uma série temporal é um exemplo do que se conhece por um processo estocástico, que é uma sequência de variáveis aleatórias ordenadas no tempo.\n",
        "\n",
        "###IMPORTÂNCIA DA ESTACIONARIEDADE\n",
        "\n",
        "Que diferença faz se uma série temporal for estacionária ou não? Há várias razões para isso. Para começar, se uma série temporal for não estacionária, só podemos estudar seu comportamento no período em consideração. Desse modo, cada série temporal será um episódio específico. Como resultado, não é possível generalizá-la para outros períodos. Para fins de previsão, portanto, as séries temporais não estacionárias terão pouco valor prático. Em segundo lugar, se tivermos duas ou mais séries temporais não estacionárias, a análise de regressão\n",
        "envolvendo essas séries temporais pode levar ao fenômeno da regressão espúria ou sem sentido. Em outras palavras, se fizermos a regressão de uma série temporal não estacionária contra uma ou mais séries temporais não estacionárias, poderemos obter um valor alto de R2\n",
        "e alguns coeficientes de regressão (ou todos) podem\n",
        "ser estatisticamente significativos com base nos testes t e F habituais. Infelizmente, em casos de séries temporais não estacionárias, esses testes não são confiáveis, pois presumem que as séries temporais que os fundamentam são estacionárias.\n",
        "\n",
        "\n"
      ],
      "metadata": {
        "id": "3bO1jzlwoNGV"
      }
    },
    {
      "cell_type": "markdown",
      "source": [
        "##TESTE DE ESTACIONARIEDADE\n",
        "\n",
        "Há básicamente trÊs formas para sabermos se uma séries é estacionári ou não.\n",
        "\n",
        "* Análise gráfica\n",
        "\n",
        "*  Autocorrelação e correlogramas \n",
        "\n",
        "* Análise de raiz unitária\n",
        "\n"
      ],
      "metadata": {
        "id": "3frMZhQEqI_5"
      }
    },
    {
      "cell_type": "markdown",
      "source": [
        "###Análise gráfica\n",
        "\n",
        "Vamos criar uma gráfico a fim de observar se a nossa série segue uma tendença o a sazonalidade do mesmo, âmbos são prejudiciais para o nosso modelo, mas a tendência descola a média pra cima anulado a estacionariedade. Se o nosso gráfico tem tendência já é uma red flag."
      ],
      "metadata": {
        "id": "kJD8R95vq6Pi"
      }
    },
    {
      "cell_type": "code",
      "source": [
        "joaopessoa_pb['Temp. Max. (C)'].plot(figsize = (12,6))\n",
        "plt.title('Temp. Max. (C)');"
      ],
      "metadata": {
        "colab": {
          "base_uri": "https://localhost:8080/",
          "height": 427
        },
        "id": "ldFo3Yrkn68C",
        "outputId": "599263c3-04ad-4f7d-f81f-85cd966a1ff5"
      },
      "execution_count": null,
      "outputs": [
        {
          "output_type": "display_data",
          "data": {
            "text/plain": [
              "<Figure size 864x432 with 1 Axes>"
            ],
            "image/png": "[encoded data removed]"
          },
          "metadata": {
            "needs_background": "light"
          }
        }
      ]
    },
    {
      "cell_type": "markdown",
      "source": [
        "Podemos observar uma tendência significativa no nosso gráfico. Vamos continuar com os teste, mas esse já é um bom sinal que a nossa série não é estacionária."
      ],
      "metadata": {
        "id": "k97Ivbfxr3hZ"
      }
    },
    {
      "cell_type": "markdown",
      "source": [
        "##Autocorrelação\n",
        "\n",
        "Para verificar até que ponto no passado a correlação se estende, podemos obter a chamada **função de autocorrelação (FAC)**. A FAC com defasagem k é definida como:\n",
        "\n",
        "$$\\rho_k = \\frac{\\gamma_k}{\\gamma_0} = \\frac{covariância \\ com \\ defasagem \\ k}{variância} = \\phi^k$$ "
      ],
      "metadata": {
        "id": "2piCQMaHsTCr"
      }
    },
    {
      "cell_type": "markdown",
      "source": [
        "uma regra prática é calcular a FAC\n",
        "até entre um quarto e um terço da duração da série temporal"
      ],
      "metadata": {
        "id": "s7N13s_Wv_QA"
      }
    },
    {
      "cell_type": "code",
      "source": [
        "int(joaopessoa_pb['Temp. Max. (C)'].shape[0]* (1/4))"
      ],
      "metadata": {
        "colab": {
          "base_uri": "https://localhost:8080/"
        },
        "id": "eieLHr4Yrc-1",
        "outputId": "f53c5da6-e4ed-46d7-feca-5c616cbc2e41"
      },
      "execution_count": null,
      "outputs": [
        {
          "output_type": "execute_result",
          "data": {
            "text/plain": [
              "83"
            ]
          },
          "metadata": {},
          "execution_count": 39
        }
      ]
    },
    {
      "cell_type": "markdown",
      "source": [
        "um quarto do nosso dataset é 83, logo vamos testar a autocorrelação até um lag de 83."
      ],
      "metadata": {
        "id": "uDVdc7YZwTOo"
      }
    },
    {
      "cell_type": "code",
      "source": [
        "info = dict()\n",
        "\n",
        "for i in range(1,84):\n",
        "  info.update({f'Lag {i}': joaopessoa_pb['Temp. Max. (C)'].autocorr(i).round(2)})\n",
        "  \n",
        "\n",
        "tabori = pd.DataFrame(pd.Series(info)).rename(columns = {0:'Correlação de Person'})\n",
        "\n",
        "tabori.head(18)\n",
        "\n",
        "  "
      ],
      "metadata": {
        "colab": {
          "base_uri": "https://localhost:8080/",
          "height": 614
        },
        "id": "vYct54wivfcg",
        "outputId": "7d42c494-3d69-44f9-be06-f14e86643678"
      },
      "execution_count": null,
      "outputs": [
        {
          "output_type": "execute_result",
          "data": {
            "text/plain": [
              "        Correlação de Person\n",
              "Lag 1                   0.94\n",
              "Lag 2                   0.81\n",
              "Lag 3                   0.64\n",
              "Lag 4                   0.45\n",
              "Lag 5                   0.25\n",
              "Lag 6                   0.04\n",
              "Lag 7                  -0.16\n",
              "Lag 8                  -0.32\n",
              "Lag 9                  -0.45\n",
              "Lag 10                 -0.54\n",
              "Lag 11                 -0.58\n",
              "Lag 12                 -0.60\n",
              "Lag 13                 -0.59\n",
              "Lag 14                 -0.55\n",
              "Lag 15                 -0.48\n",
              "Lag 16                 -0.37\n",
              "Lag 17                 -0.24\n",
              "Lag 18                 -0.08"
            ],
            "text/html": [
              "\n",
              "  <div id=\"df-8eb47d3c-e97d-45bf-8ce2-112043b1a730\">\n",
              "    <div class=\"colab-df-container\">\n",
              "      <div>\n",
              "<style scoped>\n",
              "    .dataframe tbody tr th:only-of-type {\n",
              "        vertical-align: middle;\n",
              "    }\n",
              "\n",
              "    .dataframe tbody tr th {\n",
              "        vertical-align: top;\n",
              "    }\n",
              "\n",
              "    .dataframe thead th {\n",
              "        text-align: right;\n",
              "    }\n",
              "</style>\n",
              "<table border=\"1\" class=\"dataframe\">\n",
              "  <thead>\n",
              "    <tr style=\"text-align: right;\">\n",
              "      <th></th>\n",
              "      <th>Correlação de Person</th>\n",
              "    </tr>\n",
              "  </thead>\n",
              "  <tbody>\n",
              "    <tr>\n",
              "      <th>Lag 1</th>\n",
              "      <td>0.94</td>\n",
              "    </tr>\n",
              "    <tr>\n",
              "      <th>Lag 2</th>\n",
              "      <td>0.81</td>\n",
              "    </tr>\n",
              "    <tr>\n",
              "      <th>Lag 3</th>\n",
              "      <td>0.64</td>\n",
              "    </tr>\n",
              "    <tr>\n",
              "      <th>Lag 4</th>\n",
              "      <td>0.45</td>\n",
              "    </tr>\n",
              "    <tr>\n",
              "      <th>Lag 5</th>\n",
              "      <td>0.25</td>\n",
              "    </tr>\n",
              "    <tr>\n",
              "      <th>Lag 6</th>\n",
              "      <td>0.04</td>\n",
              "    </tr>\n",
              "    <tr>\n",
              "      <th>Lag 7</th>\n",
              "      <td>-0.16</td>\n",
              "    </tr>\n",
              "    <tr>\n",
              "      <th>Lag 8</th>\n",
              "      <td>-0.32</td>\n",
              "    </tr>\n",
              "    <tr>\n",
              "      <th>Lag 9</th>\n",
              "      <td>-0.45</td>\n",
              "    </tr>\n",
              "    <tr>\n",
              "      <th>Lag 10</th>\n",
              "      <td>-0.54</td>\n",
              "    </tr>\n",
              "    <tr>\n",
              "      <th>Lag 11</th>\n",
              "      <td>-0.58</td>\n",
              "    </tr>\n",
              "    <tr>\n",
              "      <th>Lag 12</th>\n",
              "      <td>-0.60</td>\n",
              "    </tr>\n",
              "    <tr>\n",
              "      <th>Lag 13</th>\n",
              "      <td>-0.59</td>\n",
              "    </tr>\n",
              "    <tr>\n",
              "      <th>Lag 14</th>\n",
              "      <td>-0.55</td>\n",
              "    </tr>\n",
              "    <tr>\n",
              "      <th>Lag 15</th>\n",
              "      <td>-0.48</td>\n",
              "    </tr>\n",
              "    <tr>\n",
              "      <th>Lag 16</th>\n",
              "      <td>-0.37</td>\n",
              "    </tr>\n",
              "    <tr>\n",
              "      <th>Lag 17</th>\n",
              "      <td>-0.24</td>\n",
              "    </tr>\n",
              "    <tr>\n",
              "      <th>Lag 18</th>\n",
              "      <td>-0.08</td>\n",
              "    </tr>\n",
              "  </tbody>\n",
              "</table>\n",
              "</div>\n",
              "      <button class=\"colab-df-convert\" onclick=\"convertToInteractive('df-8eb47d3c-e97d-45bf-8ce2-112043b1a730')\"\n",
              "              title=\"Convert this dataframe to an interactive table.\"\n",
              "              style=\"display:none;\">\n",
              "        \n",
              "  <svg xmlns=\"http://www.w3.org/2000/svg\" height=\"24px\"viewBox=\"0 0 24 24\"\n",
              "       width=\"24px\">\n",
              "    <path d=\"M0 0h24v24H0V0z\" fill=\"none\"/>\n",
              "    <path d=\"M18.56 5.44l.94 2.06.94-2.06 2.06-.94-2.06-.94-.94-2.06-.94 2.06-2.06.94zm-11 1L8.5 8.5l.94-2.06 2.06-.94-2.06-.94L8.5 2.5l-.94 2.06-2.06.94zm10 10l.94 2.06.94-2.06 2.06-.94-2.06-.94-.94-2.06-.94 2.06-2.06.94z\"/><path d=\"M17.41 7.96l-1.37-1.37c-.4-.4-.92-.59-1.43-.59-.52 0-1.04.2-1.43.59L10.3 9.45l-7.72 7.72c-.78.78-.78 2.05 0 2.83L4 21.41c.39.39.9.59 1.41.59.51 0 1.02-.2 1.41-.59l7.78-7.78 2.81-2.81c.8-.78.8-2.07 0-2.86zM5.41 20L4 18.59l7.72-7.72 1.47 1.35L5.41 20z\"/>\n",
              "  </svg>\n",
              "      </button>\n",
              "      \n",
              "  <style>\n",
              "    .colab-df-container {\n",
              "      display:flex;\n",
              "      flex-wrap:wrap;\n",
              "      gap: 12px;\n",
              "    }\n",
              "\n",
              "    .colab-df-convert {\n",
              "      background-color: #E8F0FE;\n",
              "      border: none;\n",
              "      border-radius: 50%;\n",
              "      cursor: pointer;\n",
              "      display: none;\n",
              "      fill: #1967D2;\n",
              "      height: 32px;\n",
              "      padding: 0 0 0 0;\n",
              "      width: 32px;\n",
              "    }\n",
              "\n",
              "    .colab-df-convert:hover {\n",
              "      background-color: #E2EBFA;\n",
              "      box-shadow: 0px 1px 2px rgba(60, 64, 67, 0.3), 0px 1px 3px 1px rgba(60, 64, 67, 0.15);\n",
              "      fill: #174EA6;\n",
              "    }\n",
              "\n",
              "    [theme=dark] .colab-df-convert {\n",
              "      background-color: #3B4455;\n",
              "      fill: #D2E3FC;\n",
              "    }\n",
              "\n",
              "    [theme=dark] .colab-df-convert:hover {\n",
              "      background-color: #434B5C;\n",
              "      box-shadow: 0px 1px 3px 1px rgba(0, 0, 0, 0.15);\n",
              "      filter: drop-shadow(0px 1px 2px rgba(0, 0, 0, 0.3));\n",
              "      fill: #FFFFFF;\n",
              "    }\n",
              "  </style>\n",
              "\n",
              "      <script>\n",
              "        const buttonEl =\n",
              "          document.querySelector('#df-8eb47d3c-e97d-45bf-8ce2-112043b1a730 button.colab-df-convert');\n",
              "        buttonEl.style.display =\n",
              "          google.colab.kernel.accessAllowed ? 'block' : 'none';\n",
              "\n",
              "        async function convertToInteractive(key) {\n",
              "          const element = document.querySelector('#df-8eb47d3c-e97d-45bf-8ce2-112043b1a730');\n",
              "          const dataTable =\n",
              "            await google.colab.kernel.invokeFunction('convertToInteractive',\n",
              "                                                     [key], {});\n",
              "          if (!dataTable) return;\n",
              "\n",
              "          const docLinkHtml = 'Like what you see? Visit the ' +\n",
              "            '<a target=\"_blank\" href=https://colab.research.google.com/notebooks/data_table.ipynb>data table notebook</a>'\n",
              "            + ' to learn more about interactive tables.';\n",
              "          element.innerHTML = '';\n",
              "          dataTable['output_type'] = 'display_data';\n",
              "          await google.colab.output.renderOutput(dataTable, element);\n",
              "          const docLink = document.createElement('div');\n",
              "          docLink.innerHTML = docLinkHtml;\n",
              "          element.appendChild(docLink);\n",
              "        }\n",
              "      </script>\n",
              "    </div>\n",
              "  </div>\n",
              "  "
            ]
          },
          "metadata": {},
          "execution_count": 40
        }
      ]
    },
    {
      "cell_type": "markdown",
      "source": [
        "Uma plotagem de $ρ^k$ contra $k$, a duração da defasagem, é chamada de correlograma (amostral)."
      ],
      "metadata": {
        "id": "8z6wS7dqzsWa"
      }
    },
    {
      "cell_type": "markdown",
      "source": [
        "devemos mencionar um tipo especial de série temporal, a saber, uma série temporal\n",
        "puramente aleatória, ou de ruído branco. Uma série temporal como essa tem média constante, variância constante (isto é, homocedástica) e é não correlacionada serialmente. Ou seja se a nossa tabela tivesse valores igual a 0 ou muito próximo do mesmo. Iriamos precisar fazer ajustes e normalizações e caso esses processos o resultados fosse o mesmo a séries não seria possível de prever. Para uma série temporal como essa, a FAC em várias defasagens gira em torno de zero e o correlograma não mostra qualquer padrão discernível."
      ],
      "metadata": {
        "id": "NmWVsPB64GKQ"
      }
    },
    {
      "cell_type": "markdown",
      "source": [
        "Podemos testar a significância estatística de cada coeficiente de autocorrelação calculando seu erro padrão. O estatístico Bartlett demonstrou que, se uma série temporal for puramente aleatória, a autocorrelação amostral, $ρ^k$\n",
        ", é aproximadamente distribuída (isto é, em grandes amostras) como segue: \n",
        "###$$\\hat{ρ} \\sim N(0,1/n)$$\n",
        "\n",
        "Ou seja, em grandes amostras a série temporal é aproximadamente normalmente distribuída com média zero e variância igual a 1 sobre o tamanho da amostra. O tamanho da nossa amostra é 334. Portanto, a variância é 1/334 ou cerca de 0.002 e o erro padrão é $\\sqrt{0.002} = 0.05$. Desse modo, de acordo com as propriedades da distribuição normal, o intervalo de confiança de 95% para $ρ_k$\n",
        "é $[0 ± 1,96(0.05)]$ ou\n",
        "$(–0,098 \\ a \\  0,098)$. Algumas das correlações estimadas está nesse intervalo. Desse modo, podemos concluir que alguns os\n",
        "coeficientes de autocorrelação estimados mostrados na tabela são estatisticamente insignificantes. Trata-se de um sinal que o dataframe talvez seja estacionário."
      ],
      "metadata": {
        "id": "lykyEBe5411k"
      }
    },
    {
      "cell_type": "markdown",
      "source": [
        "Em vez de avaliar a significância estatística de um coeficiente de autocorrelação individual, também pode-mos descobrir se a soma dos coeficientes de autocorrelação ao quadrado é estatisticamente significativa. Isso pode ser feito com o auxílio da estatística Q desenvolvida por Box e Pierce, que é definida como\n",
        "\n",
        "####$$Q = n \\sum_{k = 1}^{m} \\hat{p}^2_k  $$\n",
        "\n",
        "onde n é o tamanho da amostra (334, no nosso exemplo) e m é o número total de defasagens utilizadas no cálculo da FAC, 83, no nosso exemplo. A estatística Q é muito utilizada para testar se uma série temporal é puramente aleatória ou de ruído branco. \n",
        "\n",
        "Em grandes amostras, Q é aproximadamente distribuído como a distribuição qui-quadrado com m gl. Se, em uma aplicação, o valor calculado de Q for maior que o valor crítico de Q a partir da distribuição qui-qua-drado no nível escolhido de significância, podemos rejeitar a hipótese nula de que todos os ρk\n",
        "iguais a zero; pelo menos alguns deles devem ser diferentes de zero. "
      ],
      "metadata": {
        "id": "NMBWrcZP7-9l"
      }
    },
    {
      "cell_type": "code",
      "source": [
        "tabori['Estatística de Q'] = q_stat(tabori['Correlação de Person'],334 )[0].round(2)\n",
        "tabori['Prob de Q'] = q_stat(tabori['Correlação de Person'],334 )[1].round(2)\n"
      ],
      "metadata": {
        "id": "zk7bzqca5oTu"
      },
      "execution_count": null,
      "outputs": []
    },
    {
      "cell_type": "code",
      "source": [
        "tabori.head(24)"
      ],
      "metadata": {
        "colab": {
          "base_uri": "https://localhost:8080/",
          "height": 802
        },
        "id": "PVNmn0dH9yPh",
        "outputId": "cd208df6-4cca-4809-c99b-e9ac2e947db9"
      },
      "execution_count": null,
      "outputs": [
        {
          "output_type": "execute_result",
          "data": {
            "text/plain": [
              "        Correlação de Person  Estatística de Q  Prob de Q\n",
              "Lag 1                   0.94            297.78        0.0\n",
              "Lag 2                   0.81            519.56        0.0\n",
              "Lag 3                   0.64            658.43        0.0\n",
              "Lag 4                   0.45            727.30        0.0\n",
              "Lag 5                   0.25            748.62        0.0\n",
              "Lag 6                   0.04            749.16        0.0\n",
              "Lag 7                  -0.16            757.95        0.0\n",
              "Lag 8                  -0.32            793.20        0.0\n",
              "Lag 9                  -0.45            863.12        0.0\n",
              "Lag 10                 -0.54            964.13        0.0\n",
              "Lag 11                 -0.58           1081.01        0.0\n",
              "Lag 12                 -0.60           1206.47        0.0\n",
              "Lag 13                 -0.59           1328.17        0.0\n",
              "Lag 14                 -0.55           1434.26        0.0\n",
              "Lag 15                 -0.48           1515.31        0.0\n",
              "Lag 16                 -0.37           1563.63        0.0\n",
              "Lag 17                 -0.24           1584.02        0.0\n",
              "Lag 18                 -0.08           1586.29        0.0\n",
              "Lag 19                  0.10           1589.85        0.0\n",
              "Lag 20                  0.27           1615.91        0.0\n",
              "Lag 21                  0.44           1685.32        0.0\n",
              "Lag 22                  0.56           1798.12        0.0\n",
              "Lag 23                  0.65           1950.58        0.0\n",
              "Lag 24                  0.68           2117.97        0.0"
            ],
            "text/html": [
              "\n",
              "  <div id=\"df-aae6debf-860d-41e4-b9f8-114fbf53b69c\">\n",
              "    <div class=\"colab-df-container\">\n",
              "      <div>\n",
              "<style scoped>\n",
              "    .dataframe tbody tr th:only-of-type {\n",
              "        vertical-align: middle;\n",
              "    }\n",
              "\n",
              "    .dataframe tbody tr th {\n",
              "        vertical-align: top;\n",
              "    }\n",
              "\n",
              "    .dataframe thead th {\n",
              "        text-align: right;\n",
              "    }\n",
              "</style>\n",
              "<table border=\"1\" class=\"dataframe\">\n",
              "  <thead>\n",
              "    <tr style=\"text-align: right;\">\n",
              "      <th></th>\n",
              "      <th>Correlação de Person</th>\n",
              "      <th>Estatística de Q</th>\n",
              "      <th>Prob de Q</th>\n",
              "    </tr>\n",
              "  </thead>\n",
              "  <tbody>\n",
              "    <tr>\n",
              "      <th>Lag 1</th>\n",
              "      <td>0.94</td>\n",
              "      <td>297.78</td>\n",
              "      <td>0.0</td>\n",
              "    </tr>\n",
              "    <tr>\n",
              "      <th>Lag 2</th>\n",
              "      <td>0.81</td>\n",
              "      <td>519.56</td>\n",
              "      <td>0.0</td>\n",
              "    </tr>\n",
              "    <tr>\n",
              "      <th>Lag 3</th>\n",
              "      <td>0.64</td>\n",
              "      <td>658.43</td>\n",
              "      <td>0.0</td>\n",
              "    </tr>\n",
              "    <tr>\n",
              "      <th>Lag 4</th>\n",
              "      <td>0.45</td>\n",
              "      <td>727.30</td>\n",
              "      <td>0.0</td>\n",
              "    </tr>\n",
              "    <tr>\n",
              "      <th>Lag 5</th>\n",
              "      <td>0.25</td>\n",
              "      <td>748.62</td>\n",
              "      <td>0.0</td>\n",
              "    </tr>\n",
              "    <tr>\n",
              "      <th>Lag 6</th>\n",
              "      <td>0.04</td>\n",
              "      <td>749.16</td>\n",
              "      <td>0.0</td>\n",
              "    </tr>\n",
              "    <tr>\n",
              "      <th>Lag 7</th>\n",
              "      <td>-0.16</td>\n",
              "      <td>757.95</td>\n",
              "      <td>0.0</td>\n",
              "    </tr>\n",
              "    <tr>\n",
              "      <th>Lag 8</th>\n",
              "      <td>-0.32</td>\n",
              "      <td>793.20</td>\n",
              "      <td>0.0</td>\n",
              "    </tr>\n",
              "    <tr>\n",
              "      <th>Lag 9</th>\n",
              "      <td>-0.45</td>\n",
              "      <td>863.12</td>\n",
              "      <td>0.0</td>\n",
              "    </tr>\n",
              "    <tr>\n",
              "      <th>Lag 10</th>\n",
              "      <td>-0.54</td>\n",
              "      <td>964.13</td>\n",
              "      <td>0.0</td>\n",
              "    </tr>\n",
              "    <tr>\n",
              "      <th>Lag 11</th>\n",
              "      <td>-0.58</td>\n",
              "      <td>1081.01</td>\n",
              "      <td>0.0</td>\n",
              "    </tr>\n",
              "    <tr>\n",
              "      <th>Lag 12</th>\n",
              "      <td>-0.60</td>\n",
              "      <td>1206.47</td>\n",
              "      <td>0.0</td>\n",
              "    </tr>\n",
              "    <tr>\n",
              "      <th>Lag 13</th>\n",
              "      <td>-0.59</td>\n",
              "      <td>1328.17</td>\n",
              "      <td>0.0</td>\n",
              "    </tr>\n",
              "    <tr>\n",
              "      <th>Lag 14</th>\n",
              "      <td>-0.55</td>\n",
              "      <td>1434.26</td>\n",
              "      <td>0.0</td>\n",
              "    </tr>\n",
              "    <tr>\n",
              "      <th>Lag 15</th>\n",
              "      <td>-0.48</td>\n",
              "      <td>1515.31</td>\n",
              "      <td>0.0</td>\n",
              "    </tr>\n",
              "    <tr>\n",
              "      <th>Lag 16</th>\n",
              "      <td>-0.37</td>\n",
              "      <td>1563.63</td>\n",
              "      <td>0.0</td>\n",
              "    </tr>\n",
              "    <tr>\n",
              "      <th>Lag 17</th>\n",
              "      <td>-0.24</td>\n",
              "      <td>1584.02</td>\n",
              "      <td>0.0</td>\n",
              "    </tr>\n",
              "    <tr>\n",
              "      <th>Lag 18</th>\n",
              "      <td>-0.08</td>\n",
              "      <td>1586.29</td>\n",
              "      <td>0.0</td>\n",
              "    </tr>\n",
              "    <tr>\n",
              "      <th>Lag 19</th>\n",
              "      <td>0.10</td>\n",
              "      <td>1589.85</td>\n",
              "      <td>0.0</td>\n",
              "    </tr>\n",
              "    <tr>\n",
              "      <th>Lag 20</th>\n",
              "      <td>0.27</td>\n",
              "      <td>1615.91</td>\n",
              "      <td>0.0</td>\n",
              "    </tr>\n",
              "    <tr>\n",
              "      <th>Lag 21</th>\n",
              "      <td>0.44</td>\n",
              "      <td>1685.32</td>\n",
              "      <td>0.0</td>\n",
              "    </tr>\n",
              "    <tr>\n",
              "      <th>Lag 22</th>\n",
              "      <td>0.56</td>\n",
              "      <td>1798.12</td>\n",
              "      <td>0.0</td>\n",
              "    </tr>\n",
              "    <tr>\n",
              "      <th>Lag 23</th>\n",
              "      <td>0.65</td>\n",
              "      <td>1950.58</td>\n",
              "      <td>0.0</td>\n",
              "    </tr>\n",
              "    <tr>\n",
              "      <th>Lag 24</th>\n",
              "      <td>0.68</td>\n",
              "      <td>2117.97</td>\n",
              "      <td>0.0</td>\n",
              "    </tr>\n",
              "  </tbody>\n",
              "</table>\n",
              "</div>\n",
              "      <button class=\"colab-df-convert\" onclick=\"convertToInteractive('df-aae6debf-860d-41e4-b9f8-114fbf53b69c')\"\n",
              "              title=\"Convert this dataframe to an interactive table.\"\n",
              "              style=\"display:none;\">\n",
              "        \n",
              "  <svg xmlns=\"http://www.w3.org/2000/svg\" height=\"24px\"viewBox=\"0 0 24 24\"\n",
              "       width=\"24px\">\n",
              "    <path d=\"M0 0h24v24H0V0z\" fill=\"none\"/>\n",
              "    <path d=\"M18.56 5.44l.94 2.06.94-2.06 2.06-.94-2.06-.94-.94-2.06-.94 2.06-2.06.94zm-11 1L8.5 8.5l.94-2.06 2.06-.94-2.06-.94L8.5 2.5l-.94 2.06-2.06.94zm10 10l.94 2.06.94-2.06 2.06-.94-2.06-.94-.94-2.06-.94 2.06-2.06.94z\"/><path d=\"M17.41 7.96l-1.37-1.37c-.4-.4-.92-.59-1.43-.59-.52 0-1.04.2-1.43.59L10.3 9.45l-7.72 7.72c-.78.78-.78 2.05 0 2.83L4 21.41c.39.39.9.59 1.41.59.51 0 1.02-.2 1.41-.59l7.78-7.78 2.81-2.81c.8-.78.8-2.07 0-2.86zM5.41 20L4 18.59l7.72-7.72 1.47 1.35L5.41 20z\"/>\n",
              "  </svg>\n",
              "      </button>\n",
              "      \n",
              "  <style>\n",
              "    .colab-df-container {\n",
              "      display:flex;\n",
              "      flex-wrap:wrap;\n",
              "      gap: 12px;\n",
              "    }\n",
              "\n",
              "    .colab-df-convert {\n",
              "      background-color: #E8F0FE;\n",
              "      border: none;\n",
              "      border-radius: 50%;\n",
              "      cursor: pointer;\n",
              "      display: none;\n",
              "      fill: #1967D2;\n",
              "      height: 32px;\n",
              "      padding: 0 0 0 0;\n",
              "      width: 32px;\n",
              "    }\n",
              "\n",
              "    .colab-df-convert:hover {\n",
              "      background-color: #E2EBFA;\n",
              "      box-shadow: 0px 1px 2px rgba(60, 64, 67, 0.3), 0px 1px 3px 1px rgba(60, 64, 67, 0.15);\n",
              "      fill: #174EA6;\n",
              "    }\n",
              "\n",
              "    [theme=dark] .colab-df-convert {\n",
              "      background-color: #3B4455;\n",
              "      fill: #D2E3FC;\n",
              "    }\n",
              "\n",
              "    [theme=dark] .colab-df-convert:hover {\n",
              "      background-color: #434B5C;\n",
              "      box-shadow: 0px 1px 3px 1px rgba(0, 0, 0, 0.15);\n",
              "      filter: drop-shadow(0px 1px 2px rgba(0, 0, 0, 0.3));\n",
              "      fill: #FFFFFF;\n",
              "    }\n",
              "  </style>\n",
              "\n",
              "      <script>\n",
              "        const buttonEl =\n",
              "          document.querySelector('#df-aae6debf-860d-41e4-b9f8-114fbf53b69c button.colab-df-convert');\n",
              "        buttonEl.style.display =\n",
              "          google.colab.kernel.accessAllowed ? 'block' : 'none';\n",
              "\n",
              "        async function convertToInteractive(key) {\n",
              "          const element = document.querySelector('#df-aae6debf-860d-41e4-b9f8-114fbf53b69c');\n",
              "          const dataTable =\n",
              "            await google.colab.kernel.invokeFunction('convertToInteractive',\n",
              "                                                     [key], {});\n",
              "          if (!dataTable) return;\n",
              "\n",
              "          const docLinkHtml = 'Like what you see? Visit the ' +\n",
              "            '<a target=\"_blank\" href=https://colab.research.google.com/notebooks/data_table.ipynb>data table notebook</a>'\n",
              "            + ' to learn more about interactive tables.';\n",
              "          element.innerHTML = '';\n",
              "          dataTable['output_type'] = 'display_data';\n",
              "          await google.colab.output.renderOutput(dataTable, element);\n",
              "          const docLink = document.createElement('div');\n",
              "          docLink.innerHTML = docLinkHtml;\n",
              "          element.appendChild(docLink);\n",
              "        }\n",
              "      </script>\n",
              "    </div>\n",
              "  </div>\n",
              "  "
            ]
          },
          "metadata": {},
          "execution_count": 43
        }
      ]
    },
    {
      "cell_type": "markdown",
      "source": [
        "A probabilidade de obter esse valor de Q é praticamente nula. Ou seja, a nossa série temporal é não estacionária. Para resumir, há fortes evidências de que a nossa série temporal seja não estacionária.\n"
      ],
      "metadata": {
        "id": "VKF3Zcbu-Dyy"
      }
    },
    {
      "cell_type": "markdown",
      "source": [
        "##O TESTE DE RAIZ UNITÁRIA DA ESTACIONARIEDADE\n",
        "\n",
        "Podemos usar um teste desenvolvido pelos estatísticos Dickey e Fuller, chamado de **teste τ (tau)**, cujos valores críticos são calculados por meio de simulações – programas estatísticos modernos, São capazes de fazer esses cálculos com facilidade. Na literatura, o teste tau é conhecido como o **teste de Dickey-Fuller (DF)**."
      ],
      "metadata": {
        "id": "cqcAUhR9-SXA"
      }
    },
    {
      "cell_type": "code",
      "source": [
        "class StationarityTests:\n",
        "    def __init__(self, significance=.05):\n",
        "        self.SignificanceLevel = significance\n",
        "        self.pValue = None\n",
        "        self.isStationary = None\n",
        "    def ADF_Stationarity_Test(self, timeseries, printResults = True):\n",
        "        #Dickey-Fuller test:\n",
        "        adfTest = adfuller(timeseries, autolag='AIC')\n",
        "        \n",
        "        self.pValue = adfTest[1]\n",
        "        \n",
        "        if (self.pValue<self.SignificanceLevel):\n",
        "            self.isStationary = True\n",
        "        else:\n",
        "            self.isStationary = False\n",
        "        \n",
        "        if printResults:\n",
        "            dfResults = pd.Series(adfTest[0:4], index=['ADF Test Statistic','P-Value','# Lags Used','# Observations Used'])\n",
        "            #Add Critical Values\n",
        "            for key,value in adfTest[4].items():\n",
        "                dfResults['Critical Value (%s)'%key] = value\n",
        "            print('Augmented Dickey-Fuller Test Results:')\n",
        "            print(dfResults)"
      ],
      "metadata": {
        "id": "JsuLZYrX9znK"
      },
      "execution_count": null,
      "outputs": []
    },
    {
      "cell_type": "code",
      "source": [
        "sTest = StationarityTests()\n",
        "sTest.ADF_Stationarity_Test(joaopessoa_pb['Temp. Max. (C)'], printResults = True)\n",
        "print(\"Essa séries temporal é estacionária? {0}\".format(sTest.isStationary))"
      ],
      "metadata": {
        "colab": {
          "base_uri": "https://localhost:8080/"
        },
        "id": "rdwYC1QJCfvy",
        "outputId": "42113171-c73a-43de-d0f0-48a602207cdd"
      },
      "execution_count": null,
      "outputs": [
        {
          "output_type": "stream",
          "name": "stdout",
          "text": [
            "Augmented Dickey-Fuller Test Results:\n",
            "ADF Test Statistic       -4.008692\n",
            "P-Value                   0.001366\n",
            "# Lags Used              16.000000\n",
            "# Observations Used     317.000000\n",
            "Critical Value (1%)      -3.451148\n",
            "Critical Value (5%)      -2.870701\n",
            "Critical Value (10%)     -2.571651\n",
            "dtype: float64\n",
            "Essa séries temporal é estacionária? True\n"
          ]
        }
      ]
    },
    {
      "cell_type": "markdown",
      "source": [
        "##SÉRIES TEMPORAIS DE DIFERENÇA ESTACIONÁRIA"
      ],
      "metadata": {
        "id": "hKJ6qj7sd-sJ"
      }
    },
    {
      "cell_type": "markdown",
      "source": [
        "Há duas maneiras comuns para remover a tendência dos nossos dados:\n",
        "\n",
        "* Regressão linear\n",
        "\n",
        "* Diferenciação\n",
        "\n",
        "Na regressão linear, onde:\n",
        "\n",
        "$$ \\hat{Y} = \\beta_0 + \\beta_1t $$\n",
        "\n",
        "$t$ =  variável de tendência assumindo valores cronológicos, 1, 2, ..., n.\n",
        "\n",
        "Feita a estimátiva da tendência atráves da regressão linear podemos removê-la, da seguinte forma:\n",
        "\n",
        "$$y_ {detrend} = y_t - \\hat{y} = y_t - β_0 + \\beta_1t $$\n",
        "\n",
        "\n",
        "\n",
        "Agora passamos a obter uma série sem tendêcia. O procedimento que acabamos de descrever será válido se a série original apresentar uma **tendência determinística**. \n",
        "\n",
        "\n",
        "A diferenciação consiste em tomar diferenças sucessivas da série original até se obter uma série estacionária. A primeira diferença de $Z_t$ é definida por.\n",
        "\n",
        "A primeira diferença de $Z(t)$ é definida por\n",
        "\n",
        "\n",
        "$$ Δ Z(t) = Z(t) - Z(t-1)$$\n",
        "\n",
        "A segunda diferença é\n",
        "\n",
        "$$ Δ^2Z(t) = Δ\\left [ ΔZ(t) \\right ] = Δ[Z(t) - Z(t-1)] $$\n",
        "\n",
        "ou seja,\n",
        "\n",
        "$$Δ^2Z(t) = Z(t) - 2Z(t-1)+ Z(t-2)$$\n",
        "\n",
        "De modo geral, a n-ésima diferença de Z(t) é\n",
        "\n",
        "$$Δ^nZ(t) = Δ[Δ^{n-1}Z(t)]$$\n",
        "\n",
        "\n",
        "Se uma série temporal se tornar estacionária quando removermos sua tendência com a regressão linear,\n",
        "isso é chamado de um **processo (estocástico) de tendência estacionária (PTE)**. Se uma série temporal se tornar estacionária depois de tomarmos suas primeiras diferenças, chamare-mos essa série temporal de **processo (estocástico) de diferença estacionária (PDE)**.\n",
        "\n",
        "###Séries temporais integradas\n",
        "\n",
        "Em textos sobre as séries temporais, é comum ver o termo **“série temporal integrada”**. Se uma série\n",
        "temporal como essa se tornar estacionária depois de ser diferenciada uma vez, dir-se-á que ela é integrada de ordem um, indicada como I(1). Se ela tiver de ser diferenciada duas vezes (ou seja, a diferença da diferença) para se tornar estacionária, dir-se-á que ela é integrada de ordem dois, indicada como I(2). Se precisar ser diferenciada d vezes para se tornar estacionária, dir-se-á que ela é integrada de ordem d, denotada como I(d). Uma série temporal estacionária é I(0), ou seja, integrada de ordem zero. Desse modo, os termos “série temporal estacionária” e “série temporal integrada de ordem zero” significam a mesma coisa. Seguindo essa mesma lógica, se uma série temporal for integrada, ela é não estacionária.\n",
        "\n"
      ],
      "metadata": {
        "id": "76s0Cb8E_cnu"
      }
    },
    {
      "cell_type": "markdown",
      "source": [
        "##O MODELO DE PASSEIO ALEATÓRIO (MPA)\n",
        "\n",
        "É comum ouvir que os preços de ativos financeiros, como os preços das ações e taxas de câmbio, seguem um passeio aleatório, ou seja, são não estacionários. Podemos distinguir dois tipos de passeio aleatório: passeio aleatório sem deslocamento (ou seja, sem um termo constante ou intercepto) e passeio aleatório com deslocamento (ou seja, com um termo constante).\n",
        "\n",
        "####Passeio aleatório sem deslocamento\n",
        "\n",
        "Vejamos o modelo a seguir:\n",
        "\n",
        "$$ Y_t = Y_{t-1} + \\epsilon_t$$\n",
        "\n",
        "\n",
        "Para exemplificar vamos usar o preço da gasolina como a nossa variável. Onde:\n",
        "\n",
        "\n",
        "$Y_t =$ Preço da gasolina hoje. \n",
        "\n",
        "$Y_{t-1} =$ Preço da gasolina ontem.\n",
        "\n",
        "$\\epsilon_t =$ Termo de erro, que nesse caso é um ruído branco com média 0 variância $\\sigma^2 $ \n",
        "\n",
        "pois:\n",
        "\n",
        "$$\\epsilon_t = y_t - \\hat{y}_t $$\n",
        "\n",
        "$y_t = $ Valor observado\n",
        "\n",
        "$\\hat{y}_t = $ Valor previsto\n",
        "\n",
        "logo:\n",
        "\n",
        "$$y_1 = y_0 + \\epsilon_1$$\n",
        "\n",
        "$$ y_2 = y_1 + \\epsilon_2$$\n",
        "\n",
        "Substituindo.\n",
        "\n",
        "$$y_2 = (y_0 + \\epsilon_1) + \\epsilon_2$$\n",
        "\n",
        "$$y_3 = (y_0 + \\epsilon_1 + \\epsilon_2) + \\epsilon_3$$\n",
        "\n",
        "\n",
        "$$\\vdots$$\n",
        "\n",
        "$$y_t = y_0 + \\epsilon_1 + \\epsilon_2 + \\epsilon_3 + ... + \\epsilon_t$$\n",
        "\n",
        "\n",
        "Ou seja:\n",
        "\n",
        "$$y_t = y_0 + \\sum \\epsilon_t$$\n",
        "\n",
        "E como dito antes, para se tratar de um ruído branco é preciso ter as seguinte propriedades:\n",
        "\n",
        "$E(\\epsilon_t) = 0$\n",
        "\n",
        "$E(\\epsilon_t)^2 = \\sigma ^2$\n",
        "\n",
        "$E(\\epsilon_t \\epsilon_{\\tau}) = 0, \\ \\forall t \\neq \\tau $\n",
        "\n",
        "\n",
        "Uma série $y_t:t = 1,2,...,n$ qualquer, e não apenas os resíduos, será considerada ruído branco se $y_1,y_2,...,y_n$ forem independentes e identicamente destribuídos ($i.i.d$) com média igual a 0 e variância positiva e constante. Considerando uma convariância igual a 0, temos um ruíduo branco Gaussiano ou normalmente distribuídos.\n",
        "\n",
        "Logo a média:\n",
        "\n",
        "$$E(y_t) = E(y_0) + E \\left ( \\sum \\epsilon_t \\right )$$\n",
        "\n",
        "$$ E(y_t) = y_0$$\n",
        "\n",
        "A variância da série:\n",
        "\n",
        "$$Var(y_t) = E(y_t - E(y_t))^2$$\n",
        "\n",
        "Onde:\n",
        "\n",
        "$$y_t = y_0 + \\epsilon_1 + \\epsilon_2 + \\epsilon_3 + ... + \\epsilon_t$$\n",
        "\n",
        "$$E(y_t)= y_0$$\n",
        "\n",
        "Logo\n",
        "\n",
        "$$Var(y_t) = \\not{y_0} + \\epsilon_1 + \\epsilon_2 + \\epsilon_3 + ... + \\epsilon_t - \\not{y_0}$$\n",
        "\n",
        "$$Var(y_t) = E(\\epsilon_1^2 + \\epsilon_2^2 + \\epsilon_3^2)$$\n",
        "\n",
        "$$Var(y_t) = \\sigma^2_1 + \\sigma^2_2 + ... \\sigma^2_t$$\n",
        "\n",
        "Como nosso dados são bem comportados e a variância é constante, logo:\n",
        "\n",
        "$$Var(y_t) = t \\cdot \\sigma^2$$\n",
        "\n",
        "\n",
        "\n",
        "###Passeio aleatório com deslocamento\n",
        "\n",
        "Além dos termos visto anteriormente, no passeio aleatório com drift é adicionada uma constante denominada de $δ$:\n",
        "\n",
        "$$y_t = y_{t-1} + \\epsilon_t + δ$$\n",
        "\n",
        "Onde:\n",
        "\n",
        "$$y_1 = y_0 + \\epsilon_1 + \\delta$$\n",
        "$$y_2 = y_1 + \\epsilon_2 + \\delta$$\n",
        "\n",
        "Logo:\n",
        "\n",
        "$$y_2 = (y_0 + \\epsilon_1 + \\delta)+  \\epsilon_2 + \\delta $$\n",
        "\n",
        "$$y_t = y_0 + t \\cdot \\delta + \\sum_{i =1}^t \\epsilon_t $$\n",
        "\n",
        "onde $δ$ (delta) é conhecido como o parâmetro de deslocamento, que é basicamente um intercepto no MPA.\n",
        "\n",
        "Logo a média fica assim:\n",
        "\n",
        "$$E(y_t) = y_0+ t \\cdot \\delta  $$\n",
        "\n",
        "Vamos análisar a variância:\n",
        "\n",
        "$$Var(y_t)= E(y_t - E(y_t) )^2$$\n",
        "\n",
        "$$Var(y_t) = E(\\not{y_0} + \\not{t \\cdot \\delta̸} + \\epsilon_1 + \\epsilon_2 + ... + \\epsilon_t - \\not y_0 - \\not t \\cdot \\not \\delta)$$\n",
        "\n",
        "$$Var(y_t)  = E(\\epsilon_1 + \\epsilon_2 + ... + \\epsilon_t)^2 $$\n",
        "\n",
        "$$Var(y_t) = \\sigma^2_1 + \\sigma^2_2 + ... + \\sigma^2_t$$\n",
        "\n",
        "$$Var(y_t) = \\sigma^2 + \\sigma^2 + ... + \\sigma^2$$\n",
        "\n",
        "$$Var(y_t) = t \\cdot \\sigma^2 $$\n",
        "\n",
        "Como podemos ver, para o passeio aleatório  com deslocamento, tanto a média quanto a variância aumentam com o tempo. Demostrando assim não ser estácionário.\n",
        "\n",
        "\n",
        "\n",
        "\n",
        "\n"
      ],
      "metadata": {
        "id": "gBlwjrAMBBiT"
      }
    },
    {
      "cell_type": "markdown",
      "source": [
        "Criando uma série com distribuição Gaussiana"
      ],
      "metadata": {
        "id": "_SjPwv6_rIt6"
      }
    },
    {
      "cell_type": "code",
      "source": [
        "y = np.random.normal(0,1,100)\n",
        "plt.figure(figsize = (12,8))\n",
        "plt.plot(y);"
      ],
      "metadata": {
        "id": "DyIIgO4Q_B_W",
        "colab": {
          "base_uri": "https://localhost:8080/",
          "height": 483
        },
        "outputId": "296992c2-ab19-4f84-eeeb-b9f8b33eacd9"
      },
      "execution_count": null,
      "outputs": [
        {
          "output_type": "display_data",
          "data": {
            "text/plain": [
              "<Figure size 864x576 with 1 Axes>"
            ],
            "image/png": "[encoded data removed]"
          },
          "metadata": {
            "needs_background": "light"
          }
        }
      ]
    },
    {
      "cell_type": "code",
      "source": [
        "z = np.random.normal(0,1,100)\n",
        "plt.figure(figsize = (12,8))\n",
        "plt.plot(z);"
      ],
      "metadata": {
        "colab": {
          "base_uri": "https://localhost:8080/",
          "height": 483
        },
        "id": "0vXKvqScqrO8",
        "outputId": "383f0324-b630-4145-ad94-200975bc0f95"
      },
      "execution_count": null,
      "outputs": [
        {
          "output_type": "display_data",
          "data": {
            "text/plain": [
              "<Figure size 864x576 with 1 Axes>"
            ],
            "image/png": "[encoded data removed]"
          },
          "metadata": {
            "needs_background": "light"
          }
        }
      ]
    },
    {
      "cell_type": "markdown",
      "source": [
        "##Modelo Autoregressivo (AR)\n",
        "\n",
        "O AR toma como premissa que o passado prediz o futuro. Dessa forma ele pressupõe que um processo de série temporal no qual o valor em um ponto no tempo t é uma função dos valores da série em um ponto anterior no tempo. \n",
        "\n",
        "A autoregressão é uma regressão em valores passados para predizer valores futuros. O modelo AR(1) se expressa da seguinte forma:\n",
        "\n",
        "$$y_t = \\beta_0 + \\beta_1 \\cdot y_{t-1} + \\epsilon_t$$\n",
        "\n",
        "Esse é o modelo AR(1) que considera o passado apenas no momento imediato anteior, pois apenas está com um lag de 1.\n",
        "\n",
        "\n",
        "A generalização da notação anterior onde p é um valor qualquer inferior ao t, podemos rescever a nossa expressão da seguinte forma.\n",
        "Vamos usar a notação mais trandicional, que usa $\\phi_1$ para representar os coeficientes de autoregressão:\n",
        "\n",
        "AR(p):\n",
        "\n",
        "$$ y_t = \\phi_0 + \\phi_1 \\cdot y_{t-1} + \\phi_2 \\cdot y_{t-2} + ... + \\phi_p \\cdot y_{t-p} + \\epsilon_t $$\n",
        "\n",
        "Assumiso que o processo é estacionário, assim sabemos que o valor esperado em todos os tempo deve ser o mesmo.\n",
        "\n",
        "$$E(y_t) = \\mu = E(y_{t-1})$$\n",
        "\n",
        "Que pode ser rescrita dessa forma:\n",
        "\n",
        "$$E(y_t) = E(\\phi_0 + \\phi_1 \\cdot y_{t-1} + \\epsilon_t)$$\n",
        "\n",
        "A esperança de uma constante é a mesma constante, e a gente sabe que a esperança do erro é 0, logo:\n",
        "\n",
        "\n",
        "$$E(y_t) = \\phi_0 + \\phi_1 + \\mu $$\n",
        "\n",
        "Simplificando:\n",
        "\n",
        "$$\\mu = \\phi_0 + \\phi_1 \\cdot \\mu$$\n",
        "\n",
        "\n",
        "Que gera a equação:\n",
        "\n",
        "$$\\mu - \\phi_1*\\mu = \\phi_0$$\n",
        "\n",
        "$$\\mu(1-\\phi_1) = \\phi_0$$\n",
        "\n",
        "$$\\mu = \\frac{\\phi_0}{1 - \\phi_1}$$\n",
        "\n",
        "Assim encontramos a relação entre a média do processo e os coeficientes AR(1).\n",
        "\n",
        "Podemos seguir nessa mesma linha para ver como a variância e covariância  constante impõem  condições aos coeficientes $\\phi$.\n",
        "\n",
        "Se:\n",
        "\n",
        "$$\\phi_0 = \\mu \\cdot (1-\\phi_1)$$\n",
        "\n",
        "Então:\n",
        "\n",
        "$$y_t = \\phi_0 + \\phi_1 \\cdot y_{t-1} + \\epsilon_t$$\n",
        "\n",
        "$$y_t = (\\mu -\\mu \\cdot \\phi_1) + \\phi_1 \\cdot y_{t-1} + \\epsilon_t$$\n",
        "\n",
        "$$y_t - \\mu = \\phi_1 (y_{t-1} - \\mu) + \\epsilon_t$$\n",
        "\n",
        "Como a séries é estacionária, o calcúlo par t serve para t-1:\n",
        "\n",
        "$$y_{t-1} - \\mu = \\phi_1 (y_{t-2} - \\mu) + \\epsilon_{t-1}$$\n",
        "\n",
        "Podemos substituir o $y_{t-1}$ na primeira equação de $y_t -\\mu$\n",
        "\n",
        "$$y_t - \\mu = \\phi_1(\\phi_1(y_{t-2} - \\mu) + \\epsilon_{t-1}) + \\epsilon_t$$\n",
        "\n",
        "O mesmo pode ser feito por $y_{t-2}$.\n",
        "\n",
        "$$y_t - \\mu = \\phi_1(\\phi_1(\\phi_1(y_{t-3 }- \\mu)+  \\epsilon_{t-2})+ \\epsilon_{t-1}) + \\epsilon_t$$\n",
        "\n",
        "Simplificando:\n",
        "\n",
        "$$y_t -\\mu = \\epsilon_t + \\phi_1 \\cdot \\epsilon_{t-1} + \\phi_1^2 \\cdot \\epsilon_{t-2} + \\phi_1^3 \\cdot \\epsilon_{t-3}+...+ \\phi_1^p \\cdot \\epsilon_{t-p}$$\n",
        "\n",
        "Assim para $\\infty $ casos, temos:\n",
        "\n",
        "$$y_t - \\mu = \\sum^{\\infty}_{i= 1} \\phi_1^i \\cdot \\epsilon_{t-i}$$\n"
      ],
      "metadata": {
        "id": "L5zSq-7iUeh5"
      }
    },
    {
      "cell_type": "code",
      "source": [
        "df = pd.DataFrame(joaopessoa_pb['Temp. Max. (C)'])"
      ],
      "metadata": {
        "id": "n6QY1CFEor1W"
      },
      "execution_count": null,
      "outputs": []
    },
    {
      "cell_type": "code",
      "source": [
        "plt.rcParams[\"figure.figsize\"] = (12,6.5\n",
        "                                  )"
      ],
      "metadata": {
        "id": "NivxM6E4wbbB"
      },
      "execution_count": null,
      "outputs": []
    },
    {
      "cell_type": "markdown",
      "source": [
        "###Função de autocorrelação\n",
        "\n",
        "A autocorrelação dá uma visão de como os pontos em diferentes períodos no tempo estão linearmente relacionados entre si em função de sua difernça de tempo."
      ],
      "metadata": {
        "id": "0wdJ9WVoXwhc"
      }
    },
    {
      "cell_type": "code",
      "source": [
        "plot_acf(df)\n",
        "plt.show();"
      ],
      "metadata": {
        "colab": {
          "base_uri": "https://localhost:8080/",
          "height": 417
        },
        "id": "2IG4Or-dpORi",
        "outputId": "fe19f72d-88a7-4ee0-d66d-4b8f32820318"
      },
      "execution_count": null,
      "outputs": [
        {
          "output_type": "display_data",
          "data": {
            "text/plain": [
              "<Figure size 864x468 with 1 Axes>"
            ],
            "image/png": "[encoded data removed]"
          },
          "metadata": {
            "needs_background": "light"
          }
        }
      ]
    },
    {
      "cell_type": "markdown",
      "source": [
        "### Função de autocorrelação parcial\n",
        "\n",
        "A autocorrelação parcial de uma série temporal para um determinando lag é a correlação parcial dessa série temporal com ela mesma nesse lag, dadas todas as informações entre os dois pontos no tempo."
      ],
      "metadata": {
        "id": "MLADyucRYurt"
      }
    },
    {
      "cell_type": "code",
      "source": [
        "plot_pacf(df)\n",
        "plt.show();"
      ],
      "metadata": {
        "colab": {
          "base_uri": "https://localhost:8080/",
          "height": 472
        },
        "id": "rE7JQ0PWwPrY",
        "outputId": "74bf1e84-6060-4381-b996-e86c100aa6c2"
      },
      "execution_count": null,
      "outputs": [
        {
          "output_type": "stream",
          "name": "stderr",
          "text": [
            "/usr/local/lib/python3.7/dist-packages/statsmodels/graphics/tsaplots.py:353: FutureWarning: The default method 'yw' can produce PACF values outside of the [-1,1] interval. After 0.13, the default will change tounadjusted Yule-Walker ('ywm'). You can use this method now by setting method='ywm'.\n",
            "  FutureWarning,\n"
          ]
        },
        {
          "output_type": "display_data",
          "data": {
            "text/plain": [
              "<Figure size 864x468 with 1 Axes>"
            ],
            "image/png": "[encoded data removed]"
          },
          "metadata": {
            "needs_background": "light"
          }
        }
      ]
    },
    {
      "cell_type": "markdown",
      "source": [
        "Com esses dois gráficos podemos perceber que o nosso modelo tem um AR significativo com alguns picos e MA com uma significância um pouco mais tênue. Vamos agora criar o nosso modelo ARIMA.\n",
        "\n",
        "##ARIMA\n",
        "Definido pelas ordens: AR (q), I (d) e MA (q) + Erro advindo do ruído da série.\n",
        "\n",
        "Um ARIMA definido por (1, 0, 1) é dado por:\n",
        "\n",
        "$$y_t = \\mu + \\phi y_{t-1} + \\theta y_{y-1} + \\epsilon_t$$\n",
        "\n",
        "Separando treino do teste"
      ],
      "metadata": {
        "id": "NqNwRVKceMgx"
      }
    },
    {
      "cell_type": "code",
      "source": [
        "treino = df[:int(len(df)*(3/4))]\n",
        "teste = df[int(len(df)*(3/4)):]"
      ],
      "metadata": {
        "id": "qMRUy09je6Ry"
      },
      "execution_count": null,
      "outputs": []
    },
    {
      "cell_type": "code",
      "source": [
        "#Faazendo um arima na \"mão\"\n",
        "from statsmodels.tsa.arima.model import ARIMA\n",
        "\n",
        "\n",
        "arima = ARIMA(treino, order=(3,0,2))\n",
        "arima_fit = arima.fit()\n",
        "print(arima_fit.summary())"
      ],
      "metadata": {
        "id": "uwyIyUUowihQ",
        "colab": {
          "base_uri": "https://localhost:8080/"
        },
        "outputId": "b4477715-41b3-45a9-f2ab-aab48488d8aa"
      },
      "execution_count": null,
      "outputs": [
        {
          "output_type": "stream",
          "name": "stderr",
          "text": [
            "/usr/local/lib/python3.7/dist-packages/statsmodels/tsa/base/tsa_model.py:471: ValueWarning: No frequency information was provided, so inferred frequency H will be used.\n",
            "  self._init_dates(dates, freq)\n",
            "/usr/local/lib/python3.7/dist-packages/statsmodels/tsa/base/tsa_model.py:471: ValueWarning: No frequency information was provided, so inferred frequency H will be used.\n",
            "  self._init_dates(dates, freq)\n",
            "/usr/local/lib/python3.7/dist-packages/statsmodels/tsa/base/tsa_model.py:471: ValueWarning: No frequency information was provided, so inferred frequency H will be used.\n",
            "  self._init_dates(dates, freq)\n"
          ]
        },
        {
          "output_type": "stream",
          "name": "stdout",
          "text": [
            "                               SARIMAX Results                                \n",
            "==============================================================================\n",
            "Dep. Variable:         Temp. Max. (C)   No. Observations:                  250\n",
            "Model:                 ARIMA(3, 0, 2)   Log Likelihood                -257.306\n",
            "Date:                Wed, 15 Jun 2022   AIC                            528.611\n",
            "Time:                        21:00:42   BIC                            553.261\n",
            "Sample:                    06-01-2022   HQIC                           538.532\n",
            "                         - 06-11-2022                                         \n",
            "Covariance Type:                  opg                                         \n",
            "==============================================================================\n",
            "                 coef    std err          z      P>|z|      [0.025      0.975]\n",
            "------------------------------------------------------------------------------\n",
            "const         25.2805      0.189    133.438      0.000      24.909      25.652\n",
            "ar.L1          0.9406      0.065     14.508      0.000       0.814       1.068\n",
            "ar.L2          0.7724      0.084      9.216      0.000       0.608       0.937\n",
            "ar.L3         -0.8400      0.051    -16.420      0.000      -0.940      -0.740\n",
            "ma.L1          0.2102      0.074      2.823      0.005       0.064       0.356\n",
            "ma.L2         -0.7678      0.062    -12.430      0.000      -0.889      -0.647\n",
            "sigma2         0.4514      0.028     15.869      0.000       0.396       0.507\n",
            "===================================================================================\n",
            "Ljung-Box (L1) (Q):                   0.16   Jarque-Bera (JB):               917.11\n",
            "Prob(Q):                              0.69   Prob(JB):                         0.00\n",
            "Heteroskedasticity (H):               0.48   Skew:                             0.29\n",
            "Prob(H) (two-sided):                  0.00   Kurtosis:                        12.37\n",
            "===================================================================================\n",
            "\n",
            "Warnings:\n",
            "[1] Covariance matrix calculated using the outer product of gradients (complex-step).\n"
          ]
        }
      ]
    },
    {
      "cell_type": "code",
      "source": [
        "predito_ARIMA = arima_fit.predict(start = teste.index.min(),end = teste.index.max())"
      ],
      "metadata": {
        "id": "FZgwTUxzySjf"
      },
      "execution_count": null,
      "outputs": []
    },
    {
      "cell_type": "code",
      "source": [
        "import matplotlib.pyplot as plt"
      ],
      "metadata": {
        "id": "vx7KozTvhfR0"
      },
      "execution_count": null,
      "outputs": []
    },
    {
      "cell_type": "code",
      "source": [
        "ci = 1.96 * np.std(teste)/np.sqrt(len(teste))\n",
        "\n",
        "\n",
        "fig, ax = plt.subplots(figsize = (14,9))\n",
        "ax.plot(treino.index, treino, color='orange')\n",
        "ax2 = ax.twinx()\n",
        "ax2.plot(teste.index, teste, color='blue', label = 'Real value')\n",
        "ax2.plot(teste.index, predito_AR1, color='black',label='forecast')\n",
        "ax2.fill_between(teste.index, (predito_ARIMA .values -ci.values), (predito_ARIMA .values+ci.values), color='gray', alpha=.2,label = \"95% confidence interval\")\n",
        "\n",
        "plt.legend()\n",
        "plt.show()\n",
        "\n"
      ],
      "metadata": {
        "colab": {
          "base_uri": "https://localhost:8080/",
          "height": 537
        },
        "id": "AZRyckebfbje",
        "outputId": "c3dbd6a9-1401-4e69-c1fa-dd2ff5170796"
      },
      "execution_count": null,
      "outputs": [
        {
          "output_type": "display_data",
          "data": {
            "text/plain": [
              "<Figure size 1008x648 with 2 Axes>"
            ],
            "image/png": "[encoded data removed]"
          },
          "metadata": {
            "needs_background": "light"
          }
        }
      ]
    },
    {
      "cell_type": "code",
      "source": [
        "from pmdarima.arima import AutoARIMA\n",
        "modelo_autoarima = AutoARIMA( start_p= 1, start_q = 1,start_d = 0,trace = True, max_d = 2,error_action = 'ignore',stepwise = False)"
      ],
      "metadata": {
        "id": "rQo-87QZhprz"
      },
      "execution_count": null,
      "outputs": []
    },
    {
      "cell_type": "code",
      "source": [
        "modelo_autoarima.fit(treino)"
      ],
      "metadata": {
        "colab": {
          "base_uri": "https://localhost:8080/"
        },
        "id": "i1PZMflEjwX8",
        "outputId": "7602db28-bab5-4d0a-ef7c-e73a03c48bae"
      },
      "execution_count": null,
      "outputs": [
        {
          "output_type": "stream",
          "name": "stdout",
          "text": [
            " ARIMA(0,0,0)(0,0,0)[1] intercept   : AIC=1120.789, Time=0.02 sec\n",
            " ARIMA(0,0,1)(0,0,0)[1] intercept   : AIC=856.512, Time=0.13 sec\n",
            " ARIMA(0,0,2)(0,0,0)[1] intercept   : AIC=733.521, Time=0.31 sec\n",
            " ARIMA(0,0,3)(0,0,0)[1] intercept   : AIC=647.921, Time=0.48 sec\n",
            " ARIMA(0,0,4)(0,0,0)[1] intercept   : AIC=618.822, Time=0.23 sec\n",
            " ARIMA(0,0,5)(0,0,0)[1] intercept   : AIC=592.720, Time=0.42 sec\n",
            " ARIMA(1,0,0)(0,0,0)[1] intercept   : AIC=628.240, Time=0.12 sec\n",
            " ARIMA(1,0,1)(0,0,0)[1] intercept   : AIC=587.468, Time=0.29 sec\n",
            " ARIMA(1,0,2)(0,0,0)[1] intercept   : AIC=577.333, Time=0.41 sec\n",
            " ARIMA(1,0,3)(0,0,0)[1] intercept   : AIC=568.525, Time=0.45 sec\n",
            " ARIMA(1,0,4)(0,0,0)[1] intercept   : AIC=568.672, Time=0.36 sec\n",
            " ARIMA(2,0,0)(0,0,0)[1] intercept   : AIC=564.792, Time=0.19 sec\n",
            " ARIMA(2,0,1)(0,0,0)[1] intercept   : AIC=531.464, Time=0.38 sec\n",
            " ARIMA(2,0,2)(0,0,0)[1] intercept   : AIC=536.895, Time=1.27 sec\n",
            " ARIMA(2,0,3)(0,0,0)[1] intercept   : AIC=535.319, Time=1.65 sec\n",
            " ARIMA(3,0,0)(0,0,0)[1] intercept   : AIC=553.230, Time=0.89 sec\n",
            " ARIMA(3,0,1)(0,0,0)[1] intercept   : AIC=532.291, Time=2.31 sec\n",
            " ARIMA(3,0,2)(0,0,0)[1] intercept   : AIC=529.711, Time=3.11 sec\n",
            " ARIMA(4,0,0)(0,0,0)[1] intercept   : AIC=544.760, Time=1.65 sec\n",
            " ARIMA(4,0,1)(0,0,0)[1] intercept   : AIC=534.032, Time=3.70 sec\n",
            " ARIMA(5,0,0)(0,0,0)[1] intercept   : AIC=543.506, Time=0.67 sec\n",
            "\n",
            "Best model:  ARIMA(3,0,2)(0,0,0)[1] intercept\n",
            "Total fit time: 19.110 seconds\n"
          ]
        },
        {
          "output_type": "execute_result",
          "data": {
            "text/plain": [
              "AutoARIMA(error_action='ignore', start_p=1, start_q=1, stepwise=False,\n",
              "          trace=True)"
            ]
          },
          "metadata": {},
          "execution_count": 59
        }
      ]
    },
    {
      "cell_type": "markdown",
      "source": [
        "\n",
        "A gente já tinha descoberto a melhor combinação.\n",
        "\n"
      ],
      "metadata": {
        "id": "M03AXxF913dW"
      }
    },
    {
      "cell_type": "markdown",
      "source": [
        "###Métricas para avaliar o modelo\n",
        "\n",
        "Para analisar se as previsões estão com os valores próximos dos dados reais deve-se fazer a medição do erro, o erro (ou resíduo) neste caso é basicamente $y_{real} - y_{previsão}$\n",
        "\n",
        "Avalia-se o erro nos dados de treino para verificar se o modelo tem boa assertividade, e valida-se o modelo verificando o erro nos dados de teste (dados que não foram \"vistos\" pelo modelo).\n",
        "\n",
        "Abaixo estão as principais métricas usadas para avaliar modelos de séries temporais:\n",
        "\n",
        "####MEAN FORECAST ERROR - (ERRO MÉDIO DA PREVISÃO ou VIÉS)\n",
        "\n",
        "O erro médio da previsão nada mais é do que a média dos erros da série avaliada, os valores podem ser positivos ou negativos. Essa métrica sugere que o modelo tende a fazer previsões acima do real (erros negativos) ou abaixo do real (erros positivos), desse modo também pode-se dizer que o erro médio é o viés do modelo.\n",
        "\n",
        "#### MAE - MEAN ABSOLUTE ERROR - (ERRO MÉDIO ABSOLUTO)\n",
        "\n",
        "Essa métrica é muito semelhante ao erro médio da previsão mencionado acima, a única diferença é o erro com valor negativo, ou seja, a previsão com valor maior que o número real, é transformado em positivo e posteriormente a média é calculada.\n",
        "\n",
        "Essa métrica é muito usada em séries temporais, pois há casos que o erro negativo pode zerar o positivo ou dar uma ideia que o modelo é preciso, no caso do MAE isso não acontece, pois essa métrica mostra o quanto a previsão está longe dos valores reais, independente se acima ou abaixo\n",
        "\n",
        "####MSE - MEAN SQUARED ERROR - (ERRO QUADRÁTICO MÉDIO)\n",
        "\n",
        "Essa métrica coloca mais peso nos erros maiores, pois cada valor individual do erro é elevado ao quadrado e posteriormente a média desses valores é calculada. Assim, essa métrica é muito sensível à outliers e coloca bastante peso nas previsões com erros mais significativos.\n",
        "\n",
        "Diferente do MAE e MFE, os valores do MSE estão em unidades quadráticas e não na unidade do modelo.\n",
        "\n",
        "####RMSE - ROOT MEAN SQUARED ERROR - (ERRO QUADRÁTICO MÉDIO DA RAIZ)\n",
        "\n",
        "Essa métrica é simplesmente a raiz quadrada do MSE, onde o erro volta a ter a unidade de medida do modelo (R$/m3), ela é muito usada em séries temporais porque é mais sensível à erros maiores devido ao processo de elevação ao quadrado que a originou.\n",
        "\n",
        "####MAPE - MEAN ABSOLUTE PERCENTAGE ERROR - (ERRO PERCENTUAL MÉDIO ABSOLUTO)\n",
        "\n",
        "Essa é outra métrica interessante de ser usada, geralmente usada em relatórios gerenciais, pois o erro é medido em termos percentuais e pode-se comparar o erro percentual do modelo de um produto X com o erro percentual de um produto Y.\n",
        "\n",
        "O cálculo dessa métrica pega o valor absoluto do erro dividido pelo preço real e posteriormente é calculada a média:\n",
        "\n",
        "$$MAPE = \\frac{100%}{n} \\sum _{i = 1}^n \\begin{vmatrix}\n",
        "\\frac{y_{real} - y_{previsto}}{y_{real}}\\end{vmatrix}$$ \n",
        "\n",
        "Vamos criar uma função para avaliar o erro dos dados de treino e teste com várias métricas de avaliação:\n"
      ],
      "metadata": {
        "id": "sDUrY3i-13D7"
      }
    },
    {
      "cell_type": "code",
      "source": [
        "from math import sqrt\n",
        "from sklearn.metrics import mean_squared_error, mean_absolute_error, mean_absolute_error\n",
        "\n",
        "def check_erro(orig, prev, nome_col='', nome_indice=''):\n",
        "    \n",
        "    vies = np.mean(orig - prev)\n",
        "    mse = mean_squared_error(orig, prev)\n",
        "    rmse = sqrt(mean_squared_error(orig, prev))\n",
        "    mae = mean_absolute_error(orig, prev)\n",
        "    mape = np.mean(np.abs((orig - prev) / orig)) * 100\n",
        "    \n",
        "    grupo_erro = [vies, mse, rmse, mae, mape]\n",
        "    serie = pd.DataFrame(grupo_erro, index=['VIÉS','MSE','RMSE','MAE', 'MAPE'], columns=[nome_col])\n",
        "    serie.index.name = nome_indice\n",
        "    \n",
        "    return serie"
      ],
      "metadata": {
        "id": "ZQ6pDxkT1237"
      },
      "execution_count": null,
      "outputs": []
    },
    {
      "cell_type": "markdown",
      "source": [
        "Vamos analisar toda a série"
      ],
      "metadata": {
        "id": "0BoN4pdIMvgV"
      }
    },
    {
      "cell_type": "code",
      "source": [
        "check_erro(teste['Temp. Max. (C)'].values,predito_ARIMA,'Temperatura Max. (C)', 'Toda a série' )"
      ],
      "metadata": {
        "colab": {
          "base_uri": "https://localhost:8080/",
          "height": 238
        },
        "id": "7AjiJT0MukXf",
        "outputId": "a871e69a-c44b-495f-e296-d1d9d17fdd48"
      },
      "execution_count": null,
      "outputs": [
        {
          "output_type": "execute_result",
          "data": {
            "text/plain": [
              "              Temperatura Max. (C)\n",
              "Toda a série                      \n",
              "VIÉS                      0.364969\n",
              "MSE                       8.876383\n",
              "RMSE                      2.979326\n",
              "MAE                       2.545027\n",
              "MAPE                      9.747492"
            ],
            "text/html": [
              "\n",
              "  <div id=\"df-c0c9d070-4aaa-4362-bee4-b277b9a9fbcb\">\n",
              "    <div class=\"colab-df-container\">\n",
              "      <div>\n",
              "<style scoped>\n",
              "    .dataframe tbody tr th:only-of-type {\n",
              "        vertical-align: middle;\n",
              "    }\n",
              "\n",
              "    .dataframe tbody tr th {\n",
              "        vertical-align: top;\n",
              "    }\n",
              "\n",
              "    .dataframe thead th {\n",
              "        text-align: right;\n",
              "    }\n",
              "</style>\n",
              "<table border=\"1\" class=\"dataframe\">\n",
              "  <thead>\n",
              "    <tr style=\"text-align: right;\">\n",
              "      <th></th>\n",
              "      <th>Temperatura Max. (C)</th>\n",
              "    </tr>\n",
              "    <tr>\n",
              "      <th>Toda a série</th>\n",
              "      <th></th>\n",
              "    </tr>\n",
              "  </thead>\n",
              "  <tbody>\n",
              "    <tr>\n",
              "      <th>VIÉS</th>\n",
              "      <td>0.364969</td>\n",
              "    </tr>\n",
              "    <tr>\n",
              "      <th>MSE</th>\n",
              "      <td>8.876383</td>\n",
              "    </tr>\n",
              "    <tr>\n",
              "      <th>RMSE</th>\n",
              "      <td>2.979326</td>\n",
              "    </tr>\n",
              "    <tr>\n",
              "      <th>MAE</th>\n",
              "      <td>2.545027</td>\n",
              "    </tr>\n",
              "    <tr>\n",
              "      <th>MAPE</th>\n",
              "      <td>9.747492</td>\n",
              "    </tr>\n",
              "  </tbody>\n",
              "</table>\n",
              "</div>\n",
              "      <button class=\"colab-df-convert\" onclick=\"convertToInteractive('df-c0c9d070-4aaa-4362-bee4-b277b9a9fbcb')\"\n",
              "              title=\"Convert this dataframe to an interactive table.\"\n",
              "              style=\"display:none;\">\n",
              "        \n",
              "  <svg xmlns=\"http://www.w3.org/2000/svg\" height=\"24px\"viewBox=\"0 0 24 24\"\n",
              "       width=\"24px\">\n",
              "    <path d=\"M0 0h24v24H0V0z\" fill=\"none\"/>\n",
              "    <path d=\"M18.56 5.44l.94 2.06.94-2.06 2.06-.94-2.06-.94-.94-2.06-.94 2.06-2.06.94zm-11 1L8.5 8.5l.94-2.06 2.06-.94-2.06-.94L8.5 2.5l-.94 2.06-2.06.94zm10 10l.94 2.06.94-2.06 2.06-.94-2.06-.94-.94-2.06-.94 2.06-2.06.94z\"/><path d=\"M17.41 7.96l-1.37-1.37c-.4-.4-.92-.59-1.43-.59-.52 0-1.04.2-1.43.59L10.3 9.45l-7.72 7.72c-.78.78-.78 2.05 0 2.83L4 21.41c.39.39.9.59 1.41.59.51 0 1.02-.2 1.41-.59l7.78-7.78 2.81-2.81c.8-.78.8-2.07 0-2.86zM5.41 20L4 18.59l7.72-7.72 1.47 1.35L5.41 20z\"/>\n",
              "  </svg>\n",
              "      </button>\n",
              "      \n",
              "  <style>\n",
              "    .colab-df-container {\n",
              "      display:flex;\n",
              "      flex-wrap:wrap;\n",
              "      gap: 12px;\n",
              "    }\n",
              "\n",
              "    .colab-df-convert {\n",
              "      background-color: #E8F0FE;\n",
              "      border: none;\n",
              "      border-radius: 50%;\n",
              "      cursor: pointer;\n",
              "      display: none;\n",
              "      fill: #1967D2;\n",
              "      height: 32px;\n",
              "      padding: 0 0 0 0;\n",
              "      width: 32px;\n",
              "    }\n",
              "\n",
              "    .colab-df-convert:hover {\n",
              "      background-color: #E2EBFA;\n",
              "      box-shadow: 0px 1px 2px rgba(60, 64, 67, 0.3), 0px 1px 3px 1px rgba(60, 64, 67, 0.15);\n",
              "      fill: #174EA6;\n",
              "    }\n",
              "\n",
              "    [theme=dark] .colab-df-convert {\n",
              "      background-color: #3B4455;\n",
              "      fill: #D2E3FC;\n",
              "    }\n",
              "\n",
              "    [theme=dark] .colab-df-convert:hover {\n",
              "      background-color: #434B5C;\n",
              "      box-shadow: 0px 1px 3px 1px rgba(0, 0, 0, 0.15);\n",
              "      filter: drop-shadow(0px 1px 2px rgba(0, 0, 0, 0.3));\n",
              "      fill: #FFFFFF;\n",
              "    }\n",
              "  </style>\n",
              "\n",
              "      <script>\n",
              "        const buttonEl =\n",
              "          document.querySelector('#df-c0c9d070-4aaa-4362-bee4-b277b9a9fbcb button.colab-df-convert');\n",
              "        buttonEl.style.display =\n",
              "          google.colab.kernel.accessAllowed ? 'block' : 'none';\n",
              "\n",
              "        async function convertToInteractive(key) {\n",
              "          const element = document.querySelector('#df-c0c9d070-4aaa-4362-bee4-b277b9a9fbcb');\n",
              "          const dataTable =\n",
              "            await google.colab.kernel.invokeFunction('convertToInteractive',\n",
              "                                                     [key], {});\n",
              "          if (!dataTable) return;\n",
              "\n",
              "          const docLinkHtml = 'Like what you see? Visit the ' +\n",
              "            '<a target=\"_blank\" href=https://colab.research.google.com/notebooks/data_table.ipynb>data table notebook</a>'\n",
              "            + ' to learn more about interactive tables.';\n",
              "          element.innerHTML = '';\n",
              "          dataTable['output_type'] = 'display_data';\n",
              "          await google.colab.output.renderOutput(dataTable, element);\n",
              "          const docLink = document.createElement('div');\n",
              "          docLink.innerHTML = docLinkHtml;\n",
              "          element.appendChild(docLink);\n",
              "        }\n",
              "      </script>\n",
              "    </div>\n",
              "  </div>\n",
              "  "
            ]
          },
          "metadata": {},
          "execution_count": 74
        }
      ]
    },
    {
      "cell_type": "markdown",
      "source": [
        "Apenas 4 passos na frente"
      ],
      "metadata": {
        "id": "4uirZUJaMxzc"
      }
    },
    {
      "cell_type": "code",
      "source": [
        "check_erro(teste['Temp. Max. (C)'].values[:4],predito_ARIMA[:4],'Temperatura Max. (C)', '4 passos na frente' )"
      ],
      "metadata": {
        "colab": {
          "base_uri": "https://localhost:8080/",
          "height": 238
        },
        "id": "w6vyfhi9MZ8o",
        "outputId": "0a913d91-1776-4f1d-c5ba-35eb62159e3d"
      },
      "execution_count": null,
      "outputs": [
        {
          "output_type": "execute_result",
          "data": {
            "text/plain": [
              "                    Temperatura Max. (C)\n",
              "4 passos na frente                      \n",
              "VIÉS                            0.290141\n",
              "MSE                             0.312063\n",
              "RMSE                            0.558626\n",
              "MAE                             0.462975\n",
              "MAPE                            1.862101"
            ],
            "text/html": [
              "\n",
              "  <div id=\"df-139a1f16-579a-4515-a6c1-b0d3beafe962\">\n",
              "    <div class=\"colab-df-container\">\n",
              "      <div>\n",
              "<style scoped>\n",
              "    .dataframe tbody tr th:only-of-type {\n",
              "        vertical-align: middle;\n",
              "    }\n",
              "\n",
              "    .dataframe tbody tr th {\n",
              "        vertical-align: top;\n",
              "    }\n",
              "\n",
              "    .dataframe thead th {\n",
              "        text-align: right;\n",
              "    }\n",
              "</style>\n",
              "<table border=\"1\" class=\"dataframe\">\n",
              "  <thead>\n",
              "    <tr style=\"text-align: right;\">\n",
              "      <th></th>\n",
              "      <th>Temperatura Max. (C)</th>\n",
              "    </tr>\n",
              "    <tr>\n",
              "      <th>4 passos na frente</th>\n",
              "      <th></th>\n",
              "    </tr>\n",
              "  </thead>\n",
              "  <tbody>\n",
              "    <tr>\n",
              "      <th>VIÉS</th>\n",
              "      <td>0.290141</td>\n",
              "    </tr>\n",
              "    <tr>\n",
              "      <th>MSE</th>\n",
              "      <td>0.312063</td>\n",
              "    </tr>\n",
              "    <tr>\n",
              "      <th>RMSE</th>\n",
              "      <td>0.558626</td>\n",
              "    </tr>\n",
              "    <tr>\n",
              "      <th>MAE</th>\n",
              "      <td>0.462975</td>\n",
              "    </tr>\n",
              "    <tr>\n",
              "      <th>MAPE</th>\n",
              "      <td>1.862101</td>\n",
              "    </tr>\n",
              "  </tbody>\n",
              "</table>\n",
              "</div>\n",
              "      <button class=\"colab-df-convert\" onclick=\"convertToInteractive('df-139a1f16-579a-4515-a6c1-b0d3beafe962')\"\n",
              "              title=\"Convert this dataframe to an interactive table.\"\n",
              "              style=\"display:none;\">\n",
              "        \n",
              "  <svg xmlns=\"http://www.w3.org/2000/svg\" height=\"24px\"viewBox=\"0 0 24 24\"\n",
              "       width=\"24px\">\n",
              "    <path d=\"M0 0h24v24H0V0z\" fill=\"none\"/>\n",
              "    <path d=\"M18.56 5.44l.94 2.06.94-2.06 2.06-.94-2.06-.94-.94-2.06-.94 2.06-2.06.94zm-11 1L8.5 8.5l.94-2.06 2.06-.94-2.06-.94L8.5 2.5l-.94 2.06-2.06.94zm10 10l.94 2.06.94-2.06 2.06-.94-2.06-.94-.94-2.06-.94 2.06-2.06.94z\"/><path d=\"M17.41 7.96l-1.37-1.37c-.4-.4-.92-.59-1.43-.59-.52 0-1.04.2-1.43.59L10.3 9.45l-7.72 7.72c-.78.78-.78 2.05 0 2.83L4 21.41c.39.39.9.59 1.41.59.51 0 1.02-.2 1.41-.59l7.78-7.78 2.81-2.81c.8-.78.8-2.07 0-2.86zM5.41 20L4 18.59l7.72-7.72 1.47 1.35L5.41 20z\"/>\n",
              "  </svg>\n",
              "      </button>\n",
              "      \n",
              "  <style>\n",
              "    .colab-df-container {\n",
              "      display:flex;\n",
              "      flex-wrap:wrap;\n",
              "      gap: 12px;\n",
              "    }\n",
              "\n",
              "    .colab-df-convert {\n",
              "      background-color: #E8F0FE;\n",
              "      border: none;\n",
              "      border-radius: 50%;\n",
              "      cursor: pointer;\n",
              "      display: none;\n",
              "      fill: #1967D2;\n",
              "      height: 32px;\n",
              "      padding: 0 0 0 0;\n",
              "      width: 32px;\n",
              "    }\n",
              "\n",
              "    .colab-df-convert:hover {\n",
              "      background-color: #E2EBFA;\n",
              "      box-shadow: 0px 1px 2px rgba(60, 64, 67, 0.3), 0px 1px 3px 1px rgba(60, 64, 67, 0.15);\n",
              "      fill: #174EA6;\n",
              "    }\n",
              "\n",
              "    [theme=dark] .colab-df-convert {\n",
              "      background-color: #3B4455;\n",
              "      fill: #D2E3FC;\n",
              "    }\n",
              "\n",
              "    [theme=dark] .colab-df-convert:hover {\n",
              "      background-color: #434B5C;\n",
              "      box-shadow: 0px 1px 3px 1px rgba(0, 0, 0, 0.15);\n",
              "      filter: drop-shadow(0px 1px 2px rgba(0, 0, 0, 0.3));\n",
              "      fill: #FFFFFF;\n",
              "    }\n",
              "  </style>\n",
              "\n",
              "      <script>\n",
              "        const buttonEl =\n",
              "          document.querySelector('#df-139a1f16-579a-4515-a6c1-b0d3beafe962 button.colab-df-convert');\n",
              "        buttonEl.style.display =\n",
              "          google.colab.kernel.accessAllowed ? 'block' : 'none';\n",
              "\n",
              "        async function convertToInteractive(key) {\n",
              "          const element = document.querySelector('#df-139a1f16-579a-4515-a6c1-b0d3beafe962');\n",
              "          const dataTable =\n",
              "            await google.colab.kernel.invokeFunction('convertToInteractive',\n",
              "                                                     [key], {});\n",
              "          if (!dataTable) return;\n",
              "\n",
              "          const docLinkHtml = 'Like what you see? Visit the ' +\n",
              "            '<a target=\"_blank\" href=https://colab.research.google.com/notebooks/data_table.ipynb>data table notebook</a>'\n",
              "            + ' to learn more about interactive tables.';\n",
              "          element.innerHTML = '';\n",
              "          dataTable['output_type'] = 'display_data';\n",
              "          await google.colab.output.renderOutput(dataTable, element);\n",
              "          const docLink = document.createElement('div');\n",
              "          docLink.innerHTML = docLinkHtml;\n",
              "          element.appendChild(docLink);\n",
              "        }\n",
              "      </script>\n",
              "    </div>\n",
              "  </div>\n",
              "  "
            ]
          },
          "metadata": {},
          "execution_count": 76
        }
      ]
    },
    {
      "cell_type": "code",
      "source": [],
      "metadata": {
        "id": "8MjKha5PMdO8"
      },
      "execution_count": null,
      "outputs": []
    }
  ]
}